{
 "cells": [
  {
   "cell_type": "markdown",
   "metadata": {
    "id": "_TzQEAkRJDNS"
   },
   "source": [
    "# VolPy pipeline for processing voltage imaging data \n",
    "The processing pipeline includes motion correction, memory mapping, segmentation, denoising and source extraction. The demo shows how to construct the params, MotionCorrect and VOLPY objects and call the relevant functions. \n",
    "Dataset courtesy of Karel Svoboda Lab (Janelia Research Campus)."
   ]
  },
  {
   "cell_type": "code",
   "execution_count": 1,
   "metadata": {
    "cellView": "both",
    "id": "NzHIeSOVHRm3",
    "tags": []
   },
   "outputs": [
    {
     "name": "stderr",
     "output_type": "stream",
     "text": [
      "2025-06-18 23:39:57.366932: E tensorflow/compiler/xla/stream_executor/cuda/cuda_dnn.cc:9342] Unable to register cuDNN factory: Attempting to register factory for plugin cuDNN when one has already been registered\n",
      "2025-06-18 23:39:57.366963: E tensorflow/compiler/xla/stream_executor/cuda/cuda_fft.cc:609] Unable to register cuFFT factory: Attempting to register factory for plugin cuFFT when one has already been registered\n",
      "2025-06-18 23:39:57.366979: E tensorflow/compiler/xla/stream_executor/cuda/cuda_blas.cc:1518] Unable to register cuBLAS factory: Attempting to register factory for plugin cuBLAS when one has already been registered\n",
      "qt.qpa.plugin: Could not find the Qt platform plugin \"wayland\" in \"\"\n"
     ]
    }
   ],
   "source": [
    "\n",
    "from base64 import b64encode\n",
    "import cv2\n",
    "import glob\n",
    "import h5py\n",
    "import imageio\n",
    "from IPython import get_ipython\n",
    "from IPython.display import HTML, display, clear_output\n",
    "import logging\n",
    "import matplotlib.pyplot as plt\n",
    "import numpy as np\n",
    "import os\n",
    "import tensorflow as tf\n",
    "\n",
    "try:\n",
    "    cv2.setNumThreads(0)\n",
    "except:\n",
    "    pass\n",
    "\n",
    "try:\n",
    "    if __IPYTHON__:\n",
    "        get_ipython().run_line_magic('load_ext', 'autoreload')\n",
    "        get_ipython().run_line_magic('autoreload', '2')\n",
    "        get_ipython().run_line_magic('matplotlib', 'qt')\n",
    "except NameError:\n",
    "    pass\n",
    "\n",
    "import caiman as cm\n",
    "from caiman.motion_correction import MotionCorrect\n",
    "from caiman.utils.utils import download_demo, download_model\n",
    "from caiman.source_extraction.volpy import utils\n",
    "from caiman.source_extraction.volpy.volparams import volparams\n",
    "from caiman.source_extraction.volpy.volpy import VOLPY\n",
    "from caiman.source_extraction.volpy.mrcnn import visualize, neurons\n",
    "import caiman.source_extraction.volpy.mrcnn.model as modellib\n",
    "from caiman.summary_images import local_correlations_movie_offline\n",
    "from caiman.summary_images import mean_image\n",
    "from caiman.paths import caiman_datadir\n",
    "\n",
    "logfile = None # Replace with a path if you want to log to a file\n",
    "logger = logging.getLogger('caiman')\n",
    "# Set to logging.INFO if you want much output, potentially much more output\n",
    "logger.setLevel(logging.ERROR)\n",
    "logfmt = logging.Formatter('%(relativeCreated)12d [%(filename)s:%(funcName)20s():%(lineno)s] [%(process)d] %(message)s')\n",
    "if logfile is not None:\n",
    "    handler = logging.FileHandler(logfile)\n",
    "else:\n",
    "    handler = logging.StreamHandler()\n",
    "handler.setFormatter(logfmt)\n",
    "logger.addHandler(handler)\n"
   ]
  },
  {
   "cell_type": "markdown",
   "metadata": {},
   "source": [
    "## Load demo movie and ROIs"
   ]
  },
  {
   "cell_type": "code",
   "execution_count": 13,
   "metadata": {
    "colab": {
     "base_uri": "https://localhost:8080/"
    },
    "id": "EW54aHS_HRnE",
    "outputId": "6fd13521-983f-4711-ac76-fc3a601075f4",
    "tags": []
   },
   "outputs": [
    {
     "name": "stderr",
     "output_type": "stream",
     "text": [
      "WARNING:root:Changing key fnames in group data from None to /home/janwillem/Data/voltage_HPC2/HPC2/00_03.tif\n",
      "WARNING:root:Changing key fr in group data from None to 400\n",
      "WARNING:root:Changing key max_shifts in group motion from (6, 6) to (5, 5)\n",
      "WARNING:root:Changing key gSig_filt in group motion from None to (3, 3)\n",
      "WARNING:root:Changing key strides in group motion from (96, 96) to (48, 48)\n",
      "WARNING:root:Changing key overlaps in group motion from (32, 32) to (24, 24)\n",
      "WARNING:root:Changing key max_deviation_rigid in group motion from 3 to 5\n"
     ]
    }
   ],
   "source": [
    "# File path to movie file (will download if not present)\n",
    "# fnames = './../../../Data/Optosynth/optosynth__1__20__5.tif'\n",
    "fnames = '/home/janwillem/Data/voltage_HPC2/HPC2/00_03.tif'\n",
    "\n",
    "# File path to ROIs file (will download if not present)\n",
    "path_ROIs = '/home/janwillem/Data/voltage_HPC2/HPC2/00_0_mrcnn_ROIs.hdf5'\n",
    "file_dir = os.path.split(fnames)[0]\n",
    "\n",
    "# Setup some parameters for data and motion correction dataset parameters\n",
    "fr = 400                                        # sample rate of the movie\n",
    "ROIs = None                                     # Region of interests\n",
    "index = None                                    # index of neurons\n",
    "weights = None                                  # reuse spatial weights by \n",
    "                                                # opts.change_params(params_dict={'weights':vpy.estimates['weights']})\n",
    "# Motion correction parameters\n",
    "pw_rigid = False                                # flag for pw-rigid motion correction\n",
    "gSig_filt = (3, 3)                              # size of filter, in general gSig (see below),\n",
    "                                                # change this one if algorithm does not work\n",
    "max_shifts = (5, 5)                             # maximum allowed rigid shift\n",
    "strides = (48, 48)                              # start a new patch for pw-rigid motion correction every x pixels\n",
    "overlaps = (24, 24)                             # overlap between patches (size of patch strides+overlaps)\n",
    "max_deviation_rigid = 5                         # maximum deviation allowed for patch with respect to rigid shifts\n",
    "border_nan = 'copy'\n",
    "\n",
    "opts_dict = {\n",
    "    'fnames': fnames,\n",
    "    'fr': fr,\n",
    "    'index': index,\n",
    "    'ROIs': ROIs,\n",
    "    'weights': weights,\n",
    "    'pw_rigid': pw_rigid,\n",
    "    'max_shifts': max_shifts,\n",
    "    'gSig_filt': gSig_filt,\n",
    "    'strides': strides,\n",
    "    'overlaps': overlaps,\n",
    "    'max_deviation_rigid': max_deviation_rigid,\n",
    "    'border_nan': border_nan\n",
    "}\n",
    "\n",
    "\n",
    "opts = volparams(params_dict=opts_dict)"
   ]
  },
  {
   "cell_type": "code",
   "execution_count": 21,
   "metadata": {
    "colab": {
     "background_save": true,
     "base_uri": "https://localhost:8080/"
    },
    "id": "_HqUNdCyPBBW",
    "outputId": "ea7cfec7-8fe9-43cd-8ea0-ab32b6befbd6",
    "tags": []
   },
   "outputs": [
    {
     "name": "stdout",
     "output_type": "stream",
     "text": [
      "(15000, 116, 498)\n"
     ]
    }
   ],
   "source": [
    "# Display the movie\n",
    "# m_orig = cm.load('./../../../Data/voltage_HPC2/HPC2/00_02.tif', subindices=slice(0, 7500))\n",
    "m_orig = cm.load('/home/janwillem/Data/voltage_HPC2/HPC2/00_03_mc.tif')\n",
    "print(m_orig.shape)\n",
    "ds_ratio = 0.2\n",
    "moviehandle = m_orig.resize(1, 1, ds_ratio)\n",
    "min_, max_ = np.min(moviehandle), np.max(moviehandle)\n",
    "moviehandle = cm.movie((moviehandle-min_)/(max_-min_)*255,dtype='uint8')\n",
    "moviehandle.play(fr=40, q_max=99.5, magnification=4)  # press q to exit"
   ]
  },
  {
   "cell_type": "code",
   "execution_count": 15,
   "metadata": {
    "colab": {
     "background_save": true
    },
    "id": "F6wKKAaeK1V_",
    "tags": []
   },
   "outputs": [],
   "source": [
    "# Start a cluster for parallel processing\n",
    "c, dview, n_processes = cm.cluster.setup_cluster(\n",
    "    backend='multiprocessing', n_processes=None, single_thread=False)"
   ]
  },
  {
   "cell_type": "markdown",
   "metadata": {},
   "source": [
    "## Motion Correction"
   ]
  },
  {
   "cell_type": "code",
   "execution_count": 16,
   "metadata": {
    "id": "LQBBg_xb13rp",
    "tags": []
   },
   "outputs": [
    {
     "name": "stdout",
     "output_type": "stream",
     "text": [
      "CPU times: user 2.55 s, sys: 525 ms, total: 3.07 s\n",
      "Wall time: 1min 38s\n"
     ]
    }
   ],
   "source": [
    "%%time\n",
    "# Create a motion correction object with the specified parameters\n",
    "mc = MotionCorrect(fnames, dview=dview, **opts.get_group('motion'))\n",
    "mc.motion_correct(save_movie=True)\n",
    "dview.terminate()"
   ]
  },
  {
   "cell_type": "code",
   "execution_count": 17,
   "metadata": {
    "colab": {
     "background_save": true
    },
    "id": "MQ8BDHESHRnh",
    "outputId": "f66a77ea-4c00-415f-a002-41630308fd1d"
   },
   "outputs": [
    {
     "name": "stderr",
     "output_type": "stream",
     "text": [
      "100%|██████████████████████████████████████████████████████████████████████████████████████████████████████████████████████████████████████████████████████████████████████████████████████████████████████████████████████████████████████| 1/1 [00:06<00:00,  6.12s/it]\n"
     ]
    }
   ],
   "source": [
    "# Motion correction compared to original movie\n",
    "m_orig = cm.load(fnames)\n",
    "m_rig = cm.load(mc.mmap_file)\n",
    "m_orig.fr = 400\n",
    "m_rig.fr = 400\n",
    "ds_ratio = 0.2\n",
    "moviehandle = cm.concatenate([m_orig.resize(1, 1, ds_ratio) - mc.min_mov * mc.nonneg_movie,\n",
    "                              m_rig.resize(1, 1, ds_ratio)], axis=2)\n",
    "min_, max_ = np.min(moviehandle), np.max(moviehandle)\n",
    "moviehandle = cm.movie((moviehandle-min_)/(max_-min_)*255,dtype='uint8')\n",
    "moviehandle.play(fr=40, q_max=99.5, magnification=4)  # press q to exit"
   ]
  },
  {
   "cell_type": "code",
   "execution_count": null,
   "metadata": {
    "colab": {
     "background_save": true
    },
    "id": "SdeR6igh2cAd",
    "outputId": "73e0a0c3-a76b-4b9b-8c91-679ee80e4475"
   },
   "outputs": [],
   "source": [
    "# Movie subtracted from the baseline\n",
    "m_rig2 = m_rig.computeDFF(secsWindow=1)[0][:1000]\n",
    "moviehandle1 = -m_rig2\n",
    "min_, max_ = np.min(moviehandle1), np.max(moviehandle1)\n",
    "moviehandle1 = cm.movie((moviehandle1-min_)/(max_-min_)*255,dtype='uint8')\n",
    "moviehandle1.play(fr=40, q_max=99.5, magnification=4)  # press q to exit"
   ]
  },
  {
   "cell_type": "code",
   "execution_count": 18,
   "metadata": {
    "colab": {
     "background_save": true
    },
    "id": "SdeR6igh2cAd",
    "outputId": "73e0a0c3-a76b-4b9b-8c91-679ee80e4475"
   },
   "outputs": [
    {
     "data": {
      "text/plain": [
       "'/home/janwillem/Data/voltage_HPC2/HPC2/00_03_mc.tif'"
      ]
     },
     "execution_count": 18,
     "metadata": {},
     "output_type": "execute_result"
    }
   ],
   "source": [
    "m_rig.save('/home/janwillem/Data/voltage_HPC2/HPC2/00_03_mc.tif')"
   ]
  },
  {
   "cell_type": "code",
   "execution_count": 20,
   "metadata": {
    "colab": {
     "background_save": true
    },
    "id": "SdeR6igh2cAd",
    "outputId": "73e0a0c3-a76b-4b9b-8c91-679ee80e4475"
   },
   "outputs": [
    {
     "name": "stdout",
     "output_type": "stream",
     "text": [
      "3227.5383\n"
     ]
    }
   ],
   "source": [
    "from tifffile import imwrite\n",
    "from tifffile import imread\n",
    "\n",
    "tif = np.array(imread('/home/janwillem/Data/voltage_HPC2/HPC2/00_03_mc.tif'), dtype=np.float32)\n",
    "print(tif.max())\n",
    "imwrite('/home/janwillem/Data/voltage_HPC2/HPC2/00_03_mc.tif', tif)"
   ]
  },
  {
   "cell_type": "markdown",
   "metadata": {},
   "source": [
    "## Memory Mapping"
   ]
  },
  {
   "cell_type": "code",
   "execution_count": 24,
   "metadata": {
    "colab": {
     "background_save": true
    },
    "id": "tpJDa20bHRnp",
    "outputId": "fd1ef494-77f0-4f4c-98bf-9db08ed81c61"
   },
   "outputs": [
    {
     "data": {
      "text/plain": [
       "<caiman.source_extraction.volpy.volparams.volparams at 0x7ff4e9cfd640>"
      ]
     },
     "execution_count": 24,
     "metadata": {},
     "output_type": "execute_result"
    }
   ],
   "source": [
    "c, dview, n_processes = cm.cluster.setup_cluster(\n",
    "    backend='multiprocessing', n_processes=None, single_thread=False)\n",
    "border_to_0 = 0 if mc.border_nan == 'copy' else mc.border_to_0\n",
    "fname_new = cm.save_memmap_join(mc.mmap_file, base_name='memmap_',\n",
    "                           add_to_mov=border_to_0, dview=dview, n_chunks=10)\n",
    "dview.terminate()\n",
    "\n",
    "# Change fnames to the new motion corrected one\n",
    "opts.change_params(params_dict={'fnames': fname_new})    "
   ]
  },
  {
   "cell_type": "code",
   "execution_count": 16,
   "metadata": {
    "colab": {
     "background_save": true
    },
    "id": "TLSPvv5Nt-u-"
   },
   "outputs": [],
   "source": [
    "if 'dview' in locals():\n",
    "    cm.stop_server(dview=dview)\n",
    "c, dview, n_processes = cm.cluster.setup_cluster(\n",
    "    backend='multiprocessing', n_processes=None, single_thread=False)"
   ]
  },
  {
   "cell_type": "markdown",
   "metadata": {},
   "source": [
    "## Segmentation"
   ]
  },
  {
   "cell_type": "code",
   "execution_count": 17,
   "metadata": {
    "colab": {
     "background_save": true
    },
    "id": "yBTRlgBunb4Q",
    "outputId": "ebd990ad-3041-4e5d-ee64-51995a23150b"
   },
   "outputs": [
    {
     "data": {
      "text/plain": [
       "Text(0.5, 1.0, 'corr image')"
      ]
     },
     "execution_count": 17,
     "metadata": {},
     "output_type": "execute_result"
    }
   ],
   "source": [
    "# Create mean and correlation images\n",
    "img = mean_image(mc.mmap_file[0], window = 1000, dview=dview)\n",
    "img = (img-np.mean(img))/np.std(img)\n",
    "\n",
    "gaussian_blur = False        # Use gaussian blur when there is too much noise in the video\n",
    "Cn = local_correlations_movie_offline(mc.mmap_file[0], fr=fr, window=fr*4, \n",
    "                                      stride=fr*4, winSize_baseline=fr, \n",
    "                                      remove_baseline=True, gaussian_blur=gaussian_blur,\n",
    "                                      dview=dview).max(axis=0)\n",
    "img_corr = (Cn-np.mean(Cn))/np.std(Cn)\n",
    "summary_images = np.stack([img, img, img_corr], axis=0).astype(np.float32)\n",
    "# Save summary images which could be further used in the VolPy GUI\n",
    "cm.movie(summary_images).save(fnames[:-5] + '_summary_images.tif')\n",
    "\n",
    "fig, axs = plt.subplots(1, 2)\n",
    "axs[0].imshow(summary_images[0]); axs[1].imshow(summary_images[2])\n",
    "axs[0].set_title('mean image'); axs[1].set_title('corr image')"
   ]
  },
  {
   "cell_type": "code",
   "execution_count": 18,
   "metadata": {
    "colab": {
     "background_save": true
    },
    "id": "yUDya-p2HRnu"
   },
   "outputs": [
    {
     "name": "stdout",
     "output_type": "stream",
     "text": [
      "\n",
      "Configurations:\n",
      "BACKBONE                       resnet50\n",
      "BACKBONE_STRIDES               [4, 8, 16, 32, 64]\n",
      "BATCH_SIZE                     1\n",
      "BBOX_STD_DEV                   [0.1 0.1 0.2 0.2]\n",
      "COMPUTE_BACKBONE_SHAPE         None\n",
      "DETECTION_MAX_INSTANCES        100\n",
      "DETECTION_MIN_CONFIDENCE       0.7\n",
      "DETECTION_NMS_THRESHOLD        0.3\n",
      "FPN_CLASSIF_FC_LAYERS_SIZE     1024\n",
      "GPU_COUNT                      1\n",
      "GRADIENT_CLIP_NORM             5.0\n",
      "IMAGES_PER_GPU                 1\n",
      "IMAGE_CHANNEL_COUNT            3\n",
      "IMAGE_MAX_DIM                  512\n",
      "IMAGE_META_SIZE                14\n",
      "IMAGE_MIN_DIM                  128\n",
      "IMAGE_MIN_SCALE                0\n",
      "IMAGE_RESIZE_MODE              pad64\n",
      "IMAGE_SHAPE                    [512 512   3]\n",
      "LEARNING_MOMENTUM              0.9\n",
      "LEARNING_RATE                  0.001\n",
      "LOSS_WEIGHTS                   {'rpn_class_loss': 1.0, 'rpn_bbox_loss': 1.0, 'mrcnn_class_loss': 1.0, 'mrcnn_bbox_loss': 1.0, 'mrcnn_mask_loss': 1.0}\n",
      "MASK_POOL_SIZE                 14\n",
      "MASK_SHAPE                     [28, 28]\n",
      "MAX_GT_INSTANCES               100\n",
      "MEAN_PIXEL                     [0 0 0]\n",
      "MINI_MASK_SHAPE                (56, 56)\n",
      "NAME                           neurons\n",
      "NUM_CLASSES                    2\n",
      "POOL_SIZE                      7\n",
      "POST_NMS_ROIS_INFERENCE        1000\n",
      "POST_NMS_ROIS_TRAINING         1000\n",
      "PRE_NMS_LIMIT                  6000\n",
      "ROI_POSITIVE_RATIO             0.33\n",
      "RPN_ANCHOR_RATIOS              [0.5, 1, 2]\n",
      "RPN_ANCHOR_SCALES              (16, 32, 64, 128, 256)\n",
      "RPN_ANCHOR_STRIDE              1\n",
      "RPN_BBOX_STD_DEV               [0.1 0.1 0.2 0.2]\n",
      "RPN_NMS_THRESHOLD              0.7\n",
      "RPN_TRAIN_ANCHORS_PER_IMAGE    64\n",
      "STEPS_PER_EPOCH                100\n",
      "TOP_DOWN_PYRAMID_SIZE          256\n",
      "TRAIN_BN                       False\n",
      "TRAIN_ROIS_PER_IMAGE           128\n",
      "USE_MINI_MASK                  True\n",
      "USE_RPN_ROIS                   True\n",
      "VALIDATION_STEPS               50\n",
      "WEIGHT_DECAY                   0.0001\n",
      "\n",
      "\n",
      "WARNING:tensorflow:From /home/janwillem/.conda/envs/caiman-env/lib/python3.9/site-packages/tensorflow/python/util/deprecation.py:660: calling map_fn_v2 (from tensorflow.python.ops.map_fn) with dtype is deprecated and will be removed in a future version.\n",
      "Instructions for updating:\n",
      "Use fn_output_signature instead\n"
     ]
    },
    {
     "name": "stderr",
     "output_type": "stream",
     "text": [
      "WARNING:tensorflow:From /home/janwillem/.conda/envs/caiman-env/lib/python3.9/site-packages/tensorflow/python/util/deprecation.py:660: calling map_fn_v2 (from tensorflow.python.ops.map_fn) with dtype is deprecated and will be removed in a future version.\n",
      "Instructions for updating:\n",
      "Use fn_output_signature instead\n"
     ]
    },
    {
     "name": "stdout",
     "output_type": "stream",
     "text": [
      "WARNING:tensorflow:OMP_NUM_THREADS is no longer used by the default Keras config. To configure the number of threads, use tf.config.threading APIs.\n"
     ]
    },
    {
     "name": "stderr",
     "output_type": "stream",
     "text": [
      "WARNING:tensorflow:OMP_NUM_THREADS is no longer used by the default Keras config. To configure the number of threads, use tf.config.threading APIs.\n"
     ]
    },
    {
     "name": "stdout",
     "output_type": "stream",
     "text": [
      "Processing 1 images\n",
      "image                    shape: (180, 512, 3)         min:   -2.93339  max:    7.64126  float32\n",
      "molded_images            shape: (1, 192, 512, 3)      min:   -2.93339  max:    7.64126  float64\n",
      "image_metas              shape: (1, 14)               min:    0.00000  max:  512.00000  int64\n",
      "anchors                  shape: (1, 24552, 4)         min:   -0.94775  max:    1.61267  float32\n"
     ]
    },
    {
     "name": "stderr",
     "output_type": "stream",
     "text": [
      "/home/janwillem/.conda/envs/caiman-env/lib/python3.9/site-packages/keras/src/engine/training_v1.py:2359: UserWarning: `Model.state_updates` will be removed in a future version. This property should not be used in TensorFlow 2.0, as `updates` are applied automatically.\n",
      "  updates=self.state_updates,\n"
     ]
    }
   ],
   "source": [
    "use_maskrcnn = True  # set to True to predict the ROIs using the mask R-CNN\n",
    "if not use_maskrcnn:                 # use manual annotations\n",
    "    with h5py.File(path_ROIs, 'r') as fl:\n",
    "        ROIs = fl['mov'][()]  # load ROIs\n",
    "else:\n",
    "    weights_path = download_model('mask_rcnn')    \n",
    "    ROIs = utils.mrcnn_inference(img=summary_images.transpose([1, 2, 0]), size_range=[5, 22],\n",
    "                                  weights_path=weights_path, display_result=True) # size parameter decides size range of masks to be selected\n",
    "    cm.movie(ROIs).save(fnames[:-5] + '_mrcnn_ROIs.hdf5')"
   ]
  },
  {
   "cell_type": "code",
   "execution_count": 12,
   "metadata": {},
   "outputs": [
    {
     "data": {
      "text/plain": [
       "Text(0.5, 1.0, 'masks')"
      ]
     },
     "execution_count": 12,
     "metadata": {},
     "output_type": "execute_result"
    }
   ],
   "source": [
    "fig, axs = plt.subplots(1, 2)\n",
    "axs[0].imshow(summary_images[0]); axs[1].imshow(ROIs.sum(0))\n",
    "axs[0].set_title('mean image'); axs[1].set_title('masks')"
   ]
  },
  {
   "cell_type": "code",
   "execution_count": 27,
   "metadata": {
    "colab": {
     "background_save": true
    },
    "id": "6z92CC4631AA"
   },
   "outputs": [
    {
     "name": "stdout",
     "output_type": "stream",
     "text": [
      "Now processing cell number 2Now processing cell number 0Now processing cell number 1Now processing cell number 4Now processing cell number 3Now processing cell number 5Now processing cell number 6\n",
      "Now processing cell number 7Now processing cell number 8\n",
      "Now processing cell number 9Now processing cell number 10\n",
      "\n",
      "\n",
      "\n",
      "\n",
      "\n",
      "\n",
      "\n"
     ]
    },
    {
     "name": "stderr",
     "output_type": "stream",
     "text": [
      "/home/janwillem/.conda/envs/caiman-env/lib/python3.9/site-packages/caiman/source_extraction/volpy/spikepursuit.py:194: FutureWarning: The parameters `shift_x` and `shift_y` are deprecated since v0.23 and will be removed in v0.26. Use `pad_footprint` or modify the footprintmanually instead.\n",
      "  bwexp = dilation(bw, np.ones([args['context_size'], args['context_size']]), shift_x=True, shift_y=True)\n",
      "/home/janwillem/.conda/envs/caiman-env/lib/python3.9/site-packages/caiman/source_extraction/volpy/spikepursuit.py:194: FutureWarning: The parameters `shift_x` and `shift_y` are deprecated since v0.23 and will be removed in v0.26. Use `pad_footprint` or modify the footprintmanually instead.\n",
      "  bwexp = dilation(bw, np.ones([args['context_size'], args['context_size']]), shift_x=True, shift_y=True)\n"
     ]
    },
    {
     "name": "stdout",
     "output_type": "stream",
     "text": [
      "\n"
     ]
    },
    {
     "name": "stderr",
     "output_type": "stream",
     "text": [
      "/home/janwillem/.conda/envs/caiman-env/lib/python3.9/site-packages/caiman/source_extraction/volpy/spikepursuit.py:194: FutureWarning: The parameters `shift_x` and `shift_y` are deprecated since v0.23 and will be removed in v0.26. Use `pad_footprint` or modify the footprintmanually instead.\n",
      "  bwexp = dilation(bw, np.ones([args['context_size'], args['context_size']]), shift_x=True, shift_y=True)\n",
      "/home/janwillem/.conda/envs/caiman-env/lib/python3.9/site-packages/caiman/source_extraction/volpy/spikepursuit.py:194: FutureWarning: The parameters `shift_x` and `shift_y` are deprecated since v0.23 and will be removed in v0.26. Use `pad_footprint` or modify the footprintmanually instead.\n",
      "  bwexp = dilation(bw, np.ones([args['context_size'], args['context_size']]), shift_x=True, shift_y=True)\n",
      "/home/janwillem/.conda/envs/caiman-env/lib/python3.9/site-packages/caiman/source_extraction/volpy/spikepursuit.py:194: FutureWarning: The parameters `shift_x` and `shift_y` are deprecated since v0.23 and will be removed in v0.26. Use `pad_footprint` or modify the footprintmanually instead.\n",
      "  bwexp = dilation(bw, np.ones([args['context_size'], args['context_size']]), shift_x=True, shift_y=True)\n",
      "/home/janwillem/.conda/envs/caiman-env/lib/python3.9/site-packages/caiman/source_extraction/volpy/spikepursuit.py:194: FutureWarning: The parameters `shift_x` and `shift_y` are deprecated since v0.23 and will be removed in v0.26. Use `pad_footprint` or modify the footprintmanually instead.\n",
      "  bwexp = dilation(bw, np.ones([args['context_size'], args['context_size']]), shift_x=True, shift_y=True)\n",
      "/home/janwillem/.conda/envs/caiman-env/lib/python3.9/site-packages/caiman/source_extraction/volpy/spikepursuit.py:194: FutureWarning: The parameters `shift_x` and `shift_y` are deprecated since v0.23 and will be removed in v0.26. Use `pad_footprint` or modify the footprintmanually instead.\n",
      "  bwexp = dilation(bw, np.ones([args['context_size'], args['context_size']]), shift_x=True, shift_y=True)\n",
      "/home/janwillem/.conda/envs/caiman-env/lib/python3.9/site-packages/caiman/source_extraction/volpy/spikepursuit.py:194: FutureWarning: The parameters `shift_x` and `shift_y` are deprecated since v0.23 and will be removed in v0.26. Use `pad_footprint` or modify the footprintmanually instead.\n",
      "  bwexp = dilation(bw, np.ones([args['context_size'], args['context_size']]), shift_x=True, shift_y=True)\n",
      "/home/janwillem/.conda/envs/caiman-env/lib/python3.9/site-packages/caiman/source_extraction/volpy/spikepursuit.py:194: FutureWarning: The parameters `shift_x` and `shift_y` are deprecated since v0.23 and will be removed in v0.26. Use `pad_footprint` or modify the footprintmanually instead.\n",
      "  bwexp = dilation(bw, np.ones([args['context_size'], args['context_size']]), shift_x=True, shift_y=True)\n",
      "/home/janwillem/.conda/envs/caiman-env/lib/python3.9/site-packages/caiman/source_extraction/volpy/spikepursuit.py:194: FutureWarning: The parameters `shift_x` and `shift_y` are deprecated since v0.23 and will be removed in v0.26. Use `pad_footprint` or modify the footprintmanually instead.\n",
      "  bwexp = dilation(bw, np.ones([args['context_size'], args['context_size']]), shift_x=True, shift_y=True)\n",
      "/home/janwillem/.conda/envs/caiman-env/lib/python3.9/site-packages/caiman/source_extraction/volpy/spikepursuit.py:194: FutureWarning: The parameters `shift_x` and `shift_y` are deprecated since v0.23 and will be removed in v0.26. Use `pad_footprint` or modify the footprintmanually instead.\n",
      "  bwexp = dilation(bw, np.ones([args['context_size'], args['context_size']]), shift_x=True, shift_y=True)\n",
      "WARNING:root:Few spikes were detected. Adjusting threshold to take 10 largest spikes\n",
      "WARNING:root:Selecting top 100 spikes for template\n",
      "WARNING:root:Few spikes were detected. Adjusting threshold to take 10 largest spikes\n",
      "WARNING:root:Few spikes were detected. Adjusting threshold to take 10 largest spikes\n",
      "WARNING:root:Selecting top 100 spikes for template\n",
      "WARNING:root:Few spikes were detected. Adjusting threshold to take 10 largest spikes\n",
      "WARNING:root:Few spikes were detected. Adjusting threshold to take 10 largest spikes\n",
      "WARNING:root:Few spikes were detected. Adjusting threshold to take 10 largest spikes\n",
      "WARNING:root:Few spikes were detected. Adjusting threshold to take 10 largest spikes\n",
      "WARNING:root:Few spikes were detected. Adjusting threshold to take 10 largest spikes\n",
      "WARNING:root:Few spikes were detected. Adjusting threshold to take 10 largest spikes\n",
      "WARNING:root:Few spikes were detected. Adjusting threshold to take 10 largest spikes\n",
      "WARNING:root:Few spikes were detected. Adjusting threshold to take 10 largest spikes\n",
      "WARNING:root:Few spikes were detected. Adjusting threshold to take 10 largest spikes\n",
      "WARNING:root:Few spikes were detected. Adjusting threshold to take 10 largest spikes\n",
      "WARNING:root:Few spikes were detected. Adjusting threshold to take 10 largest spikes\n"
     ]
    },
    {
     "name": "stdout",
     "output_type": "stream",
     "text": [
      "Now processing cell number 11Now processing cell number 13Now processing cell number 12Now processing cell number 14Now processing cell number 15Now processing cell number 16\n",
      "Now processing cell number 17\n",
      "\n",
      "Now processing cell number 18\n",
      "\n",
      "\n",
      "Now processing cell number 19"
     ]
    },
    {
     "name": "stderr",
     "output_type": "stream",
     "text": [
      "/home/janwillem/.conda/envs/caiman-env/lib/python3.9/site-packages/caiman/source_extraction/volpy/spikepursuit.py:194: FutureWarning: The parameters `shift_x` and `shift_y` are deprecated since v0.23 and will be removed in v0.26. Use `pad_footprint` or modify the footprintmanually instead.\n",
      "  bwexp = dilation(bw, np.ones([args['context_size'], args['context_size']]), shift_x=True, shift_y=True)\n"
     ]
    },
    {
     "name": "stdout",
     "output_type": "stream",
     "text": [
      "\n"
     ]
    },
    {
     "name": "stderr",
     "output_type": "stream",
     "text": [
      "/home/janwillem/.conda/envs/caiman-env/lib/python3.9/site-packages/caiman/source_extraction/volpy/spikepursuit.py:194: FutureWarning: The parameters `shift_x` and `shift_y` are deprecated since v0.23 and will be removed in v0.26. Use `pad_footprint` or modify the footprintmanually instead.\n",
      "  bwexp = dilation(bw, np.ones([args['context_size'], args['context_size']]), shift_x=True, shift_y=True)\n"
     ]
    },
    {
     "name": "stdout",
     "output_type": "stream",
     "text": [
      "Now processing cell number 20"
     ]
    },
    {
     "name": "stderr",
     "output_type": "stream",
     "text": [
      "/home/janwillem/.conda/envs/caiman-env/lib/python3.9/site-packages/caiman/source_extraction/volpy/spikepursuit.py:194: FutureWarning: The parameters `shift_x` and `shift_y` are deprecated since v0.23 and will be removed in v0.26. Use `pad_footprint` or modify the footprintmanually instead.\n",
      "  bwexp = dilation(bw, np.ones([args['context_size'], args['context_size']]), shift_x=True, shift_y=True)\n",
      "/home/janwillem/.conda/envs/caiman-env/lib/python3.9/site-packages/caiman/source_extraction/volpy/spikepursuit.py:194: FutureWarning: The parameters `shift_x` and `shift_y` are deprecated since v0.23 and will be removed in v0.26. Use `pad_footprint` or modify the footprintmanually instead.\n",
      "  bwexp = dilation(bw, np.ones([args['context_size'], args['context_size']]), shift_x=True, shift_y=True)\n"
     ]
    },
    {
     "name": "stdout",
     "output_type": "stream",
     "text": [
      "\n"
     ]
    },
    {
     "name": "stderr",
     "output_type": "stream",
     "text": [
      "/home/janwillem/.conda/envs/caiman-env/lib/python3.9/site-packages/caiman/source_extraction/volpy/spikepursuit.py:194: FutureWarning: The parameters `shift_x` and `shift_y` are deprecated since v0.23 and will be removed in v0.26. Use `pad_footprint` or modify the footprintmanually instead.\n",
      "  bwexp = dilation(bw, np.ones([args['context_size'], args['context_size']]), shift_x=True, shift_y=True)\n"
     ]
    },
    {
     "name": "stdout",
     "output_type": "stream",
     "text": [
      "\n"
     ]
    },
    {
     "name": "stderr",
     "output_type": "stream",
     "text": [
      "/home/janwillem/.conda/envs/caiman-env/lib/python3.9/site-packages/caiman/source_extraction/volpy/spikepursuit.py:194: FutureWarning: The parameters `shift_x` and `shift_y` are deprecated since v0.23 and will be removed in v0.26. Use `pad_footprint` or modify the footprintmanually instead.\n",
      "  bwexp = dilation(bw, np.ones([args['context_size'], args['context_size']]), shift_x=True, shift_y=True)\n"
     ]
    },
    {
     "name": "stdout",
     "output_type": "stream",
     "text": [
      "\n"
     ]
    },
    {
     "name": "stderr",
     "output_type": "stream",
     "text": [
      "/home/janwillem/.conda/envs/caiman-env/lib/python3.9/site-packages/caiman/source_extraction/volpy/spikepursuit.py:194: FutureWarning: The parameters `shift_x` and `shift_y` are deprecated since v0.23 and will be removed in v0.26. Use `pad_footprint` or modify the footprintmanually instead.\n",
      "  bwexp = dilation(bw, np.ones([args['context_size'], args['context_size']]), shift_x=True, shift_y=True)\n",
      "/home/janwillem/.conda/envs/caiman-env/lib/python3.9/site-packages/caiman/source_extraction/volpy/spikepursuit.py:194: FutureWarning: The parameters `shift_x` and `shift_y` are deprecated since v0.23 and will be removed in v0.26. Use `pad_footprint` or modify the footprintmanually instead.\n",
      "  bwexp = dilation(bw, np.ones([args['context_size'], args['context_size']]), shift_x=True, shift_y=True)\n",
      "/home/janwillem/.conda/envs/caiman-env/lib/python3.9/site-packages/caiman/source_extraction/volpy/spikepursuit.py:194: FutureWarning: The parameters `shift_x` and `shift_y` are deprecated since v0.23 and will be removed in v0.26. Use `pad_footprint` or modify the footprintmanually instead.\n",
      "  bwexp = dilation(bw, np.ones([args['context_size'], args['context_size']]), shift_x=True, shift_y=True)\n",
      "/home/janwillem/.conda/envs/caiman-env/lib/python3.9/site-packages/caiman/source_extraction/volpy/spikepursuit.py:194: FutureWarning: The parameters `shift_x` and `shift_y` are deprecated since v0.23 and will be removed in v0.26. Use `pad_footprint` or modify the footprintmanually instead.\n",
      "  bwexp = dilation(bw, np.ones([args['context_size'], args['context_size']]), shift_x=True, shift_y=True)\n"
     ]
    },
    {
     "name": "stdout",
     "output_type": "stream",
     "text": [
      "Now processing cell number 21\n"
     ]
    },
    {
     "name": "stderr",
     "output_type": "stream",
     "text": [
      "/home/janwillem/.conda/envs/caiman-env/lib/python3.9/site-packages/caiman/source_extraction/volpy/spikepursuit.py:194: FutureWarning: The parameters `shift_x` and `shift_y` are deprecated since v0.23 and will be removed in v0.26. Use `pad_footprint` or modify the footprintmanually instead.\n",
      "  bwexp = dilation(bw, np.ones([args['context_size'], args['context_size']]), shift_x=True, shift_y=True)\n",
      "WARNING:root:Selecting top 100 spikes for template\n",
      "WARNING:root:Few spikes were detected. Adjusting threshold to take 10 largest spikes\n",
      "WARNING:root:Selecting top 100 spikes for template\n",
      "/home/janwillem/.conda/envs/caiman-env/lib/python3.9/site-packages/caiman/source_extraction/volpy/spikepursuit.py:612: RuntimeWarning: invalid value encountered in scalar divide\n",
      "  detectionRate = (csf2[ix] - csmodel2[ix]) / np.max(csf2 - csmodel2)\n",
      "WARNING:root:Few spikes were detected. Adjusting threshold to take 10 largest spikes\n",
      "WARNING:root:Few spikes were detected. Adjusting threshold to take 10 largest spikes\n",
      "WARNING:root:Few spikes were detected. Adjusting threshold to take 10 largest spikes\n",
      "WARNING:root:Few spikes were detected. Adjusting threshold to take 10 largest spikes\n",
      "WARNING:root:Few spikes were detected. Adjusting threshold to take 10 largest spikes\n",
      "WARNING:root:Few spikes were detected. Adjusting threshold to take 10 largest spikes\n"
     ]
    },
    {
     "name": "stdout",
     "output_type": "stream",
     "text": [
      "Now processing cell number 22Now processing cell number 24Now processing cell number 26Now processing cell number 23Now processing cell number 25Now processing cell number 27Now processing cell number 28\n",
      "\n",
      "Now processing cell number 29Now processing cell number 30\n",
      "\n",
      "\n",
      "\n",
      "Now processing cell number 31"
     ]
    },
    {
     "name": "stderr",
     "output_type": "stream",
     "text": [
      "/home/janwillem/.conda/envs/caiman-env/lib/python3.9/site-packages/caiman/source_extraction/volpy/spikepursuit.py:194: FutureWarning: The parameters `shift_x` and `shift_y` are deprecated since v0.23 and will be removed in v0.26. Use `pad_footprint` or modify the footprintmanually instead.\n",
      "  bwexp = dilation(bw, np.ones([args['context_size'], args['context_size']]), shift_x=True, shift_y=True)\n",
      "/home/janwillem/.conda/envs/caiman-env/lib/python3.9/site-packages/caiman/source_extraction/volpy/spikepursuit.py:194: FutureWarning: The parameters `shift_x` and `shift_y` are deprecated since v0.23 and will be removed in v0.26. Use `pad_footprint` or modify the footprintmanually instead.\n",
      "  bwexp = dilation(bw, np.ones([args['context_size'], args['context_size']]), shift_x=True, shift_y=True)\n"
     ]
    },
    {
     "name": "stdout",
     "output_type": "stream",
     "text": [
      "\n"
     ]
    },
    {
     "name": "stderr",
     "output_type": "stream",
     "text": [
      "/home/janwillem/.conda/envs/caiman-env/lib/python3.9/site-packages/caiman/source_extraction/volpy/spikepursuit.py:194: FutureWarning: The parameters `shift_x` and `shift_y` are deprecated since v0.23 and will be removed in v0.26. Use `pad_footprint` or modify the footprintmanually instead.\n",
      "  bwexp = dilation(bw, np.ones([args['context_size'], args['context_size']]), shift_x=True, shift_y=True)\n"
     ]
    },
    {
     "name": "stdout",
     "output_type": "stream",
     "text": [
      "\n"
     ]
    },
    {
     "name": "stderr",
     "output_type": "stream",
     "text": [
      "/home/janwillem/.conda/envs/caiman-env/lib/python3.9/site-packages/caiman/source_extraction/volpy/spikepursuit.py:194: FutureWarning: The parameters `shift_x` and `shift_y` are deprecated since v0.23 and will be removed in v0.26. Use `pad_footprint` or modify the footprintmanually instead.\n",
      "  bwexp = dilation(bw, np.ones([args['context_size'], args['context_size']]), shift_x=True, shift_y=True)\n",
      "/home/janwillem/.conda/envs/caiman-env/lib/python3.9/site-packages/caiman/source_extraction/volpy/spikepursuit.py:194: FutureWarning: The parameters `shift_x` and `shift_y` are deprecated since v0.23 and will be removed in v0.26. Use `pad_footprint` or modify the footprintmanually instead.\n",
      "  bwexp = dilation(bw, np.ones([args['context_size'], args['context_size']]), shift_x=True, shift_y=True)\n"
     ]
    },
    {
     "name": "stdout",
     "output_type": "stream",
     "text": [
      "\n",
      "\n"
     ]
    },
    {
     "name": "stderr",
     "output_type": "stream",
     "text": [
      "/home/janwillem/.conda/envs/caiman-env/lib/python3.9/site-packages/caiman/source_extraction/volpy/spikepursuit.py:194: FutureWarning: The parameters `shift_x` and `shift_y` are deprecated since v0.23 and will be removed in v0.26. Use `pad_footprint` or modify the footprintmanually instead.\n",
      "  bwexp = dilation(bw, np.ones([args['context_size'], args['context_size']]), shift_x=True, shift_y=True)\n",
      "/home/janwillem/.conda/envs/caiman-env/lib/python3.9/site-packages/caiman/source_extraction/volpy/spikepursuit.py:194: FutureWarning: The parameters `shift_x` and `shift_y` are deprecated since v0.23 and will be removed in v0.26. Use `pad_footprint` or modify the footprintmanually instead.\n",
      "  bwexp = dilation(bw, np.ones([args['context_size'], args['context_size']]), shift_x=True, shift_y=True)\n",
      "/home/janwillem/.conda/envs/caiman-env/lib/python3.9/site-packages/caiman/source_extraction/volpy/spikepursuit.py:194: FutureWarning: The parameters `shift_x` and `shift_y` are deprecated since v0.23 and will be removed in v0.26. Use `pad_footprint` or modify the footprintmanually instead.\n",
      "  bwexp = dilation(bw, np.ones([args['context_size'], args['context_size']]), shift_x=True, shift_y=True)\n",
      "/home/janwillem/.conda/envs/caiman-env/lib/python3.9/site-packages/caiman/source_extraction/volpy/spikepursuit.py:194: FutureWarning: The parameters `shift_x` and `shift_y` are deprecated since v0.23 and will be removed in v0.26. Use `pad_footprint` or modify the footprintmanually instead.\n",
      "  bwexp = dilation(bw, np.ones([args['context_size'], args['context_size']]), shift_x=True, shift_y=True)\n",
      "/home/janwillem/.conda/envs/caiman-env/lib/python3.9/site-packages/caiman/source_extraction/volpy/spikepursuit.py:194: FutureWarning: The parameters `shift_x` and `shift_y` are deprecated since v0.23 and will be removed in v0.26. Use `pad_footprint` or modify the footprintmanually instead.\n",
      "  bwexp = dilation(bw, np.ones([args['context_size'], args['context_size']]), shift_x=True, shift_y=True)\n"
     ]
    },
    {
     "name": "stdout",
     "output_type": "stream",
     "text": [
      "Now processing cell number 32\n"
     ]
    },
    {
     "name": "stderr",
     "output_type": "stream",
     "text": [
      "/home/janwillem/.conda/envs/caiman-env/lib/python3.9/site-packages/caiman/source_extraction/volpy/spikepursuit.py:194: FutureWarning: The parameters `shift_x` and `shift_y` are deprecated since v0.23 and will be removed in v0.26. Use `pad_footprint` or modify the footprintmanually instead.\n",
      "  bwexp = dilation(bw, np.ones([args['context_size'], args['context_size']]), shift_x=True, shift_y=True)\n",
      "WARNING:root:Few spikes were detected. Adjusting threshold to take 10 largest spikes\n",
      "WARNING:root:Selecting top 100 spikes for template\n",
      "WARNING:root:Few spikes were detected. Adjusting threshold to take 10 largest spikes\n",
      "WARNING:root:Few spikes were detected. Adjusting threshold to take 10 largest spikes\n",
      "WARNING:root:Few spikes were detected. Adjusting threshold to take 10 largest spikes\n",
      "WARNING:root:Few spikes were detected. Adjusting threshold to take 10 largest spikes\n",
      "WARNING:root:Selecting top 100 spikes for template\n",
      "WARNING:root:Few spikes were detected. Adjusting threshold to take 10 largest spikes\n",
      "WARNING:root:Few spikes were detected. Adjusting threshold to take 10 largest spikes\n",
      "WARNING:root:Few spikes were detected. Adjusting threshold to take 10 largest spikes\n",
      "WARNING:root:Selecting top 100 spikes for template\n",
      "/home/janwillem/.conda/envs/caiman-env/lib/python3.9/site-packages/caiman/source_extraction/volpy/spikepursuit.py:612: RuntimeWarning: invalid value encountered in scalar divide\n",
      "  detectionRate = (csf2[ix] - csmodel2[ix]) / np.max(csf2 - csmodel2)\n",
      "WARNING:root:Few spikes were detected. Adjusting threshold to take 10 largest spikes\n",
      "WARNING:root:Few spikes were detected. Adjusting threshold to take 10 largest spikes\n",
      "WARNING:root:Few spikes were detected. Adjusting threshold to take 10 largest spikes\n",
      "WARNING:root:Few spikes were detected. Adjusting threshold to take 10 largest spikes\n",
      "WARNING:root:Few spikes were detected. Adjusting threshold to take 10 largest spikes\n",
      "WARNING:root:Few spikes were detected. Adjusting threshold to take 10 largest spikes\n",
      "WARNING:root:Few spikes were detected. Adjusting threshold to take 10 largest spikes\n",
      "WARNING:root:Few spikes were detected. Adjusting threshold to take 10 largest spikes\n",
      "WARNING:root:Few spikes were detected. Adjusting threshold to take 10 largest spikes\n",
      "WARNING:root:Few spikes were detected. Adjusting threshold to take 10 largest spikes\n",
      "WARNING:root:Few spikes were detected. Adjusting threshold to take 10 largest spikes\n",
      "WARNING:root:Few spikes were detected. Adjusting threshold to take 10 largest spikes\n",
      "WARNING:root:Few spikes were detected. Adjusting threshold to take 10 largest spikes\n",
      "WARNING:root:Few spikes were detected. Adjusting threshold to take 10 largest spikes\n",
      "WARNING:root:Few spikes were detected. Adjusting threshold to take 10 largest spikes\n"
     ]
    },
    {
     "name": "stdout",
     "output_type": "stream",
     "text": [
      "Now processing cell number 33Now processing cell number 34Now processing cell number 35Now processing cell number 36Now processing cell number 37Now processing cell number 38Now processing cell number 39\n",
      "Now processing cell number 40\n",
      "Now processing cell number 41\n",
      "\n",
      "Now processing cell number 42\n",
      "\n"
     ]
    },
    {
     "name": "stderr",
     "output_type": "stream",
     "text": [
      "/home/janwillem/.conda/envs/caiman-env/lib/python3.9/site-packages/caiman/source_extraction/volpy/spikepursuit.py:194: FutureWarning: The parameters `shift_x` and `shift_y` are deprecated since v0.23 and will be removed in v0.26. Use `pad_footprint` or modify the footprintmanually instead.\n",
      "  bwexp = dilation(bw, np.ones([args['context_size'], args['context_size']]), shift_x=True, shift_y=True)\n"
     ]
    },
    {
     "name": "stdout",
     "output_type": "stream",
     "text": [
      "\n",
      "\n"
     ]
    },
    {
     "name": "stderr",
     "output_type": "stream",
     "text": [
      "/home/janwillem/.conda/envs/caiman-env/lib/python3.9/site-packages/caiman/source_extraction/volpy/spikepursuit.py:194: FutureWarning: The parameters `shift_x` and `shift_y` are deprecated since v0.23 and will be removed in v0.26. Use `pad_footprint` or modify the footprintmanually instead.\n",
      "  bwexp = dilation(bw, np.ones([args['context_size'], args['context_size']]), shift_x=True, shift_y=True)\n"
     ]
    },
    {
     "name": "stdout",
     "output_type": "stream",
     "text": [
      "\n",
      "\n"
     ]
    },
    {
     "name": "stderr",
     "output_type": "stream",
     "text": [
      "/home/janwillem/.conda/envs/caiman-env/lib/python3.9/site-packages/caiman/source_extraction/volpy/spikepursuit.py:194: FutureWarning: The parameters `shift_x` and `shift_y` are deprecated since v0.23 and will be removed in v0.26. Use `pad_footprint` or modify the footprintmanually instead.\n",
      "  bwexp = dilation(bw, np.ones([args['context_size'], args['context_size']]), shift_x=True, shift_y=True)\n",
      "/home/janwillem/.conda/envs/caiman-env/lib/python3.9/site-packages/caiman/source_extraction/volpy/spikepursuit.py:194: FutureWarning: The parameters `shift_x` and `shift_y` are deprecated since v0.23 and will be removed in v0.26. Use `pad_footprint` or modify the footprintmanually instead.\n",
      "  bwexp = dilation(bw, np.ones([args['context_size'], args['context_size']]), shift_x=True, shift_y=True)\n",
      "/home/janwillem/.conda/envs/caiman-env/lib/python3.9/site-packages/caiman/source_extraction/volpy/spikepursuit.py:194: FutureWarning: The parameters `shift_x` and `shift_y` are deprecated since v0.23 and will be removed in v0.26. Use `pad_footprint` or modify the footprintmanually instead.\n",
      "  bwexp = dilation(bw, np.ones([args['context_size'], args['context_size']]), shift_x=True, shift_y=True)\n",
      "/home/janwillem/.conda/envs/caiman-env/lib/python3.9/site-packages/caiman/source_extraction/volpy/spikepursuit.py:194: FutureWarning: The parameters `shift_x` and `shift_y` are deprecated since v0.23 and will be removed in v0.26. Use `pad_footprint` or modify the footprintmanually instead.\n",
      "  bwexp = dilation(bw, np.ones([args['context_size'], args['context_size']]), shift_x=True, shift_y=True)\n",
      "/home/janwillem/.conda/envs/caiman-env/lib/python3.9/site-packages/caiman/source_extraction/volpy/spikepursuit.py:194: FutureWarning: The parameters `shift_x` and `shift_y` are deprecated since v0.23 and will be removed in v0.26. Use `pad_footprint` or modify the footprintmanually instead.\n",
      "  bwexp = dilation(bw, np.ones([args['context_size'], args['context_size']]), shift_x=True, shift_y=True)\n",
      "/home/janwillem/.conda/envs/caiman-env/lib/python3.9/site-packages/caiman/source_extraction/volpy/spikepursuit.py:194: FutureWarning: The parameters `shift_x` and `shift_y` are deprecated since v0.23 and will be removed in v0.26. Use `pad_footprint` or modify the footprintmanually instead.\n",
      "  bwexp = dilation(bw, np.ones([args['context_size'], args['context_size']]), shift_x=True, shift_y=True)\n",
      "/home/janwillem/.conda/envs/caiman-env/lib/python3.9/site-packages/caiman/source_extraction/volpy/spikepursuit.py:194: FutureWarning: The parameters `shift_x` and `shift_y` are deprecated since v0.23 and will be removed in v0.26. Use `pad_footprint` or modify the footprintmanually instead.\n",
      "  bwexp = dilation(bw, np.ones([args['context_size'], args['context_size']]), shift_x=True, shift_y=True)\n",
      "/home/janwillem/.conda/envs/caiman-env/lib/python3.9/site-packages/caiman/source_extraction/volpy/spikepursuit.py:194: FutureWarning: The parameters `shift_x` and `shift_y` are deprecated since v0.23 and will be removed in v0.26. Use `pad_footprint` or modify the footprintmanually instead.\n",
      "  bwexp = dilation(bw, np.ones([args['context_size'], args['context_size']]), shift_x=True, shift_y=True)\n"
     ]
    },
    {
     "name": "stdout",
     "output_type": "stream",
     "text": [
      "Now processing cell number 43\n"
     ]
    },
    {
     "name": "stderr",
     "output_type": "stream",
     "text": [
      "/home/janwillem/.conda/envs/caiman-env/lib/python3.9/site-packages/caiman/source_extraction/volpy/spikepursuit.py:194: FutureWarning: The parameters `shift_x` and `shift_y` are deprecated since v0.23 and will be removed in v0.26. Use `pad_footprint` or modify the footprintmanually instead.\n",
      "  bwexp = dilation(bw, np.ones([args['context_size'], args['context_size']]), shift_x=True, shift_y=True)\n",
      "WARNING:root:Few spikes were detected. Adjusting threshold to take 10 largest spikes\n",
      "WARNING:root:Few spikes were detected. Adjusting threshold to take 10 largest spikes\n",
      "WARNING:root:Few spikes were detected. Adjusting threshold to take 10 largest spikes\n",
      "WARNING:root:Selecting top 100 spikes for template\n",
      "WARNING:root:Few spikes were detected. Adjusting threshold to take 10 largest spikes\n",
      "WARNING:root:Few spikes were detected. Adjusting threshold to take 10 largest spikes\n",
      "WARNING:root:Few spikes were detected. Adjusting threshold to take 10 largest spikes\n",
      "WARNING:root:Few spikes were detected. Adjusting threshold to take 10 largest spikes\n",
      "WARNING:root:Few spikes were detected. Adjusting threshold to take 10 largest spikes\n",
      "WARNING:root:Few spikes were detected. Adjusting threshold to take 10 largest spikes\n",
      "WARNING:root:Few spikes were detected. Adjusting threshold to take 10 largest spikes\n",
      "WARNING:root:Selecting top 100 spikes for template\n",
      "WARNING:root:Selecting top 100 spikes for template\n"
     ]
    },
    {
     "name": "stdout",
     "output_type": "stream",
     "text": [
      "Now processing cell number 44Now processing cell number 45Now processing cell number 46Now processing cell number 47Now processing cell number 48Now processing cell number 49Now processing cell number 50\n",
      "\n",
      "Now processing cell number 51\n",
      "Now processing cell number 52\n",
      "\n",
      "\n"
     ]
    },
    {
     "name": "stderr",
     "output_type": "stream",
     "text": [
      "/home/janwillem/.conda/envs/caiman-env/lib/python3.9/site-packages/caiman/source_extraction/volpy/spikepursuit.py:194: FutureWarning: The parameters `shift_x` and `shift_y` are deprecated since v0.23 and will be removed in v0.26. Use `pad_footprint` or modify the footprintmanually instead.\n",
      "  bwexp = dilation(bw, np.ones([args['context_size'], args['context_size']]), shift_x=True, shift_y=True)\n"
     ]
    },
    {
     "name": "stdout",
     "output_type": "stream",
     "text": [
      "\n",
      "\n"
     ]
    },
    {
     "name": "stderr",
     "output_type": "stream",
     "text": [
      "/home/janwillem/.conda/envs/caiman-env/lib/python3.9/site-packages/caiman/source_extraction/volpy/spikepursuit.py:194: FutureWarning: The parameters `shift_x` and `shift_y` are deprecated since v0.23 and will be removed in v0.26. Use `pad_footprint` or modify the footprintmanually instead.\n",
      "  bwexp = dilation(bw, np.ones([args['context_size'], args['context_size']]), shift_x=True, shift_y=True)\n",
      "/home/janwillem/.conda/envs/caiman-env/lib/python3.9/site-packages/caiman/source_extraction/volpy/spikepursuit.py:194: FutureWarning: The parameters `shift_x` and `shift_y` are deprecated since v0.23 and will be removed in v0.26. Use `pad_footprint` or modify the footprintmanually instead.\n",
      "  bwexp = dilation(bw, np.ones([args['context_size'], args['context_size']]), shift_x=True, shift_y=True)\n"
     ]
    },
    {
     "name": "stdout",
     "output_type": "stream",
     "text": [
      "\n"
     ]
    },
    {
     "name": "stderr",
     "output_type": "stream",
     "text": [
      "/home/janwillem/.conda/envs/caiman-env/lib/python3.9/site-packages/caiman/source_extraction/volpy/spikepursuit.py:194: FutureWarning: The parameters `shift_x` and `shift_y` are deprecated since v0.23 and will be removed in v0.26. Use `pad_footprint` or modify the footprintmanually instead.\n",
      "  bwexp = dilation(bw, np.ones([args['context_size'], args['context_size']]), shift_x=True, shift_y=True)\n",
      "/home/janwillem/.conda/envs/caiman-env/lib/python3.9/site-packages/caiman/source_extraction/volpy/spikepursuit.py:194: FutureWarning: The parameters `shift_x` and `shift_y` are deprecated since v0.23 and will be removed in v0.26. Use `pad_footprint` or modify the footprintmanually instead.\n",
      "  bwexp = dilation(bw, np.ones([args['context_size'], args['context_size']]), shift_x=True, shift_y=True)\n",
      "/home/janwillem/.conda/envs/caiman-env/lib/python3.9/site-packages/caiman/source_extraction/volpy/spikepursuit.py:194: FutureWarning: The parameters `shift_x` and `shift_y` are deprecated since v0.23 and will be removed in v0.26. Use `pad_footprint` or modify the footprintmanually instead.\n",
      "  bwexp = dilation(bw, np.ones([args['context_size'], args['context_size']]), shift_x=True, shift_y=True)\n",
      "/home/janwillem/.conda/envs/caiman-env/lib/python3.9/site-packages/caiman/source_extraction/volpy/spikepursuit.py:194: FutureWarning: The parameters `shift_x` and `shift_y` are deprecated since v0.23 and will be removed in v0.26. Use `pad_footprint` or modify the footprintmanually instead.\n",
      "  bwexp = dilation(bw, np.ones([args['context_size'], args['context_size']]), shift_x=True, shift_y=True)\n",
      "/home/janwillem/.conda/envs/caiman-env/lib/python3.9/site-packages/caiman/source_extraction/volpy/spikepursuit.py:194: FutureWarning: The parameters `shift_x` and `shift_y` are deprecated since v0.23 and will be removed in v0.26. Use `pad_footprint` or modify the footprintmanually instead.\n",
      "  bwexp = dilation(bw, np.ones([args['context_size'], args['context_size']]), shift_x=True, shift_y=True)\n",
      "/home/janwillem/.conda/envs/caiman-env/lib/python3.9/site-packages/caiman/source_extraction/volpy/spikepursuit.py:194: FutureWarning: The parameters `shift_x` and `shift_y` are deprecated since v0.23 and will be removed in v0.26. Use `pad_footprint` or modify the footprintmanually instead.\n",
      "  bwexp = dilation(bw, np.ones([args['context_size'], args['context_size']]), shift_x=True, shift_y=True)\n"
     ]
    },
    {
     "name": "stdout",
     "output_type": "stream",
     "text": [
      "Now processing cell number 53\n"
     ]
    },
    {
     "name": "stderr",
     "output_type": "stream",
     "text": [
      "/home/janwillem/.conda/envs/caiman-env/lib/python3.9/site-packages/caiman/source_extraction/volpy/spikepursuit.py:194: FutureWarning: The parameters `shift_x` and `shift_y` are deprecated since v0.23 and will be removed in v0.26. Use `pad_footprint` or modify the footprintmanually instead.\n",
      "  bwexp = dilation(bw, np.ones([args['context_size'], args['context_size']]), shift_x=True, shift_y=True)\n"
     ]
    },
    {
     "name": "stdout",
     "output_type": "stream",
     "text": [
      "Now processing cell number 54\n"
     ]
    },
    {
     "name": "stderr",
     "output_type": "stream",
     "text": [
      "/home/janwillem/.conda/envs/caiman-env/lib/python3.9/site-packages/caiman/source_extraction/volpy/spikepursuit.py:194: FutureWarning: The parameters `shift_x` and `shift_y` are deprecated since v0.23 and will be removed in v0.26. Use `pad_footprint` or modify the footprintmanually instead.\n",
      "  bwexp = dilation(bw, np.ones([args['context_size'], args['context_size']]), shift_x=True, shift_y=True)\n",
      "WARNING:root:Few spikes were detected. Adjusting threshold to take 10 largest spikes\n",
      "WARNING:root:Few spikes were detected. Adjusting threshold to take 10 largest spikes\n",
      "WARNING:root:Selecting top 100 spikes for template\n",
      "WARNING:root:Selecting top 100 spikes for template\n",
      "WARNING:root:Few spikes were detected. Adjusting threshold to take 10 largest spikes\n",
      "WARNING:root:Few spikes were detected. Adjusting threshold to take 10 largest spikes\n",
      "WARNING:root:Few spikes were detected. Adjusting threshold to take 10 largest spikes\n",
      "WARNING:root:Few spikes were detected. Adjusting threshold to take 10 largest spikes\n",
      "WARNING:root:Few spikes were detected. Adjusting threshold to take 10 largest spikes\n",
      "WARNING:root:Few spikes were detected. Adjusting threshold to take 10 largest spikes\n",
      "WARNING:root:Few spikes were detected. Adjusting threshold to take 10 largest spikes\n",
      "WARNING:root:Few spikes were detected. Adjusting threshold to take 10 largest spikes\n",
      "WARNING:root:Few spikes were detected. Adjusting threshold to take 10 largest spikes\n",
      "WARNING:root:Few spikes were detected. Adjusting threshold to take 10 largest spikes\n",
      "WARNING:root:Selecting top 100 spikes for template\n",
      "/home/janwillem/.conda/envs/caiman-env/lib/python3.9/site-packages/caiman/source_extraction/volpy/spikepursuit.py:612: RuntimeWarning: invalid value encountered in scalar divide\n",
      "  detectionRate = (csf2[ix] - csmodel2[ix]) / np.max(csf2 - csmodel2)\n",
      "WARNING:root:Few spikes were detected. Adjusting threshold to take 10 largest spikes\n",
      "WARNING:root:Few spikes were detected. Adjusting threshold to take 10 largest spikes\n",
      "WARNING:root:Few spikes were detected. Adjusting threshold to take 10 largest spikes\n",
      "WARNING:root:Few spikes were detected. Adjusting threshold to take 10 largest spikes\n",
      "WARNING:root:Few spikes were detected. Adjusting threshold to take 10 largest spikes\n",
      "WARNING:root:Few spikes were detected. Adjusting threshold to take 10 largest spikes\n",
      "WARNING:root:Few spikes were detected. Adjusting threshold to take 10 largest spikes\n",
      "WARNING:root:Few spikes were detected. Adjusting threshold to take 10 largest spikes\n"
     ]
    },
    {
     "name": "stdout",
     "output_type": "stream",
     "text": [
      "Now processing cell number 55Now processing cell number 57Now processing cell number 56Now processing cell number 58Now processing cell number 59Now processing cell number 60Now processing cell number 61\n",
      "\n",
      "\n",
      "\n",
      "\n",
      "\n",
      "\n"
     ]
    },
    {
     "name": "stderr",
     "output_type": "stream",
     "text": [
      "/home/janwillem/.conda/envs/caiman-env/lib/python3.9/site-packages/caiman/source_extraction/volpy/spikepursuit.py:194: FutureWarning: The parameters `shift_x` and `shift_y` are deprecated since v0.23 and will be removed in v0.26. Use `pad_footprint` or modify the footprintmanually instead.\n",
      "  bwexp = dilation(bw, np.ones([args['context_size'], args['context_size']]), shift_x=True, shift_y=True)\n",
      "/home/janwillem/.conda/envs/caiman-env/lib/python3.9/site-packages/caiman/source_extraction/volpy/spikepursuit.py:194: FutureWarning: The parameters `shift_x` and `shift_y` are deprecated since v0.23 and will be removed in v0.26. Use `pad_footprint` or modify the footprintmanually instead.\n",
      "  bwexp = dilation(bw, np.ones([args['context_size'], args['context_size']]), shift_x=True, shift_y=True)\n",
      "/home/janwillem/.conda/envs/caiman-env/lib/python3.9/site-packages/caiman/source_extraction/volpy/spikepursuit.py:194: FutureWarning: The parameters `shift_x` and `shift_y` are deprecated since v0.23 and will be removed in v0.26. Use `pad_footprint` or modify the footprintmanually instead.\n",
      "  bwexp = dilation(bw, np.ones([args['context_size'], args['context_size']]), shift_x=True, shift_y=True)\n",
      "/home/janwillem/.conda/envs/caiman-env/lib/python3.9/site-packages/caiman/source_extraction/volpy/spikepursuit.py:194: FutureWarning: The parameters `shift_x` and `shift_y` are deprecated since v0.23 and will be removed in v0.26. Use `pad_footprint` or modify the footprintmanually instead.\n",
      "  bwexp = dilation(bw, np.ones([args['context_size'], args['context_size']]), shift_x=True, shift_y=True)\n",
      "/home/janwillem/.conda/envs/caiman-env/lib/python3.9/site-packages/caiman/source_extraction/volpy/spikepursuit.py:194: FutureWarning: The parameters `shift_x` and `shift_y` are deprecated since v0.23 and will be removed in v0.26. Use `pad_footprint` or modify the footprintmanually instead.\n",
      "  bwexp = dilation(bw, np.ones([args['context_size'], args['context_size']]), shift_x=True, shift_y=True)\n",
      "/home/janwillem/.conda/envs/caiman-env/lib/python3.9/site-packages/caiman/source_extraction/volpy/spikepursuit.py:194: FutureWarning: The parameters `shift_x` and `shift_y` are deprecated since v0.23 and will be removed in v0.26. Use `pad_footprint` or modify the footprintmanually instead.\n",
      "  bwexp = dilation(bw, np.ones([args['context_size'], args['context_size']]), shift_x=True, shift_y=True)\n",
      "/home/janwillem/.conda/envs/caiman-env/lib/python3.9/site-packages/caiman/source_extraction/volpy/spikepursuit.py:194: FutureWarning: The parameters `shift_x` and `shift_y` are deprecated since v0.23 and will be removed in v0.26. Use `pad_footprint` or modify the footprintmanually instead.\n",
      "  bwexp = dilation(bw, np.ones([args['context_size'], args['context_size']]), shift_x=True, shift_y=True)\n",
      "WARNING:root:Selecting top 100 spikes for template\n",
      "WARNING:root:Few spikes were detected. Adjusting threshold to take 10 largest spikes\n",
      "WARNING:root:Selecting top 100 spikes for template\n",
      "WARNING:root:Few spikes were detected. Adjusting threshold to take 10 largest spikes\n",
      "WARNING:root:Few spikes were detected. Adjusting threshold to take 10 largest spikes\n",
      "WARNING:root:Few spikes were detected. Adjusting threshold to take 10 largest spikes\n",
      "WARNING:root:Few spikes were detected. Adjusting threshold to take 10 largest spikes\n",
      "WARNING:root:Few spikes were detected. Adjusting threshold to take 10 largest spikes\n",
      "WARNING:root:Few spikes were detected. Adjusting threshold to take 10 largest spikes\n",
      "WARNING:root:Few spikes were detected. Adjusting threshold to take 10 largest spikes\n",
      "WARNING:root:Few spikes were detected. Adjusting threshold to take 10 largest spikes\n",
      "WARNING:root:Few spikes were detected. Adjusting threshold to take 10 largest spikes\n"
     ]
    },
    {
     "name": "stdout",
     "output_type": "stream",
     "text": [
      "Now processing cell number 0Now processing cell number 1Now processing cell number 2Now processing cell number 3Now processing cell number 4Now processing cell number 5Now processing cell number 6\n",
      "Now processing cell number 7\n",
      "\n",
      "\n",
      "\n",
      "\n",
      "\n",
      "\n"
     ]
    },
    {
     "name": "stderr",
     "output_type": "stream",
     "text": [
      "/home/janwillem/.conda/envs/caiman-env/lib/python3.9/site-packages/caiman/source_extraction/volpy/spikepursuit.py:194: FutureWarning: The parameters `shift_x` and `shift_y` are deprecated since v0.23 and will be removed in v0.26. Use `pad_footprint` or modify the footprintmanually instead.\n",
      "  bwexp = dilation(bw, np.ones([args['context_size'], args['context_size']]), shift_x=True, shift_y=True)\n",
      "/home/janwillem/.conda/envs/caiman-env/lib/python3.9/site-packages/caiman/source_extraction/volpy/spikepursuit.py:194: FutureWarning: The parameters `shift_x` and `shift_y` are deprecated since v0.23 and will be removed in v0.26. Use `pad_footprint` or modify the footprintmanually instead.\n",
      "  bwexp = dilation(bw, np.ones([args['context_size'], args['context_size']]), shift_x=True, shift_y=True)\n",
      "/home/janwillem/.conda/envs/caiman-env/lib/python3.9/site-packages/caiman/source_extraction/volpy/spikepursuit.py:194: FutureWarning: The parameters `shift_x` and `shift_y` are deprecated since v0.23 and will be removed in v0.26. Use `pad_footprint` or modify the footprintmanually instead.\n",
      "  bwexp = dilation(bw, np.ones([args['context_size'], args['context_size']]), shift_x=True, shift_y=True)\n"
     ]
    },
    {
     "name": "stdout",
     "output_type": "stream",
     "text": [
      "Now processing cell number 8"
     ]
    },
    {
     "name": "stderr",
     "output_type": "stream",
     "text": [
      "/home/janwillem/.conda/envs/caiman-env/lib/python3.9/site-packages/caiman/source_extraction/volpy/spikepursuit.py:194: FutureWarning: The parameters `shift_x` and `shift_y` are deprecated since v0.23 and will be removed in v0.26. Use `pad_footprint` or modify the footprintmanually instead.\n",
      "  bwexp = dilation(bw, np.ones([args['context_size'], args['context_size']]), shift_x=True, shift_y=True)\n"
     ]
    },
    {
     "name": "stdout",
     "output_type": "stream",
     "text": [
      "Now processing cell number 9Now processing cell number 10"
     ]
    },
    {
     "name": "stderr",
     "output_type": "stream",
     "text": [
      "/home/janwillem/.conda/envs/caiman-env/lib/python3.9/site-packages/caiman/source_extraction/volpy/spikepursuit.py:194: FutureWarning: The parameters `shift_x` and `shift_y` are deprecated since v0.23 and will be removed in v0.26. Use `pad_footprint` or modify the footprintmanually instead.\n",
      "  bwexp = dilation(bw, np.ones([args['context_size'], args['context_size']]), shift_x=True, shift_y=True)\n",
      "/home/janwillem/.conda/envs/caiman-env/lib/python3.9/site-packages/caiman/source_extraction/volpy/spikepursuit.py:194: FutureWarning: The parameters `shift_x` and `shift_y` are deprecated since v0.23 and will be removed in v0.26. Use `pad_footprint` or modify the footprintmanually instead.\n",
      "  bwexp = dilation(bw, np.ones([args['context_size'], args['context_size']]), shift_x=True, shift_y=True)\n",
      "/home/janwillem/.conda/envs/caiman-env/lib/python3.9/site-packages/caiman/source_extraction/volpy/spikepursuit.py:194: FutureWarning: The parameters `shift_x` and `shift_y` are deprecated since v0.23 and will be removed in v0.26. Use `pad_footprint` or modify the footprintmanually instead.\n",
      "  bwexp = dilation(bw, np.ones([args['context_size'], args['context_size']]), shift_x=True, shift_y=True)\n"
     ]
    },
    {
     "name": "stdout",
     "output_type": "stream",
     "text": [
      "\n",
      "\n"
     ]
    },
    {
     "name": "stderr",
     "output_type": "stream",
     "text": [
      "/home/janwillem/.conda/envs/caiman-env/lib/python3.9/site-packages/caiman/source_extraction/volpy/spikepursuit.py:194: FutureWarning: The parameters `shift_x` and `shift_y` are deprecated since v0.23 and will be removed in v0.26. Use `pad_footprint` or modify the footprintmanually instead.\n",
      "  bwexp = dilation(bw, np.ones([args['context_size'], args['context_size']]), shift_x=True, shift_y=True)\n",
      "/home/janwillem/.conda/envs/caiman-env/lib/python3.9/site-packages/caiman/source_extraction/volpy/spikepursuit.py:194: FutureWarning: The parameters `shift_x` and `shift_y` are deprecated since v0.23 and will be removed in v0.26. Use `pad_footprint` or modify the footprintmanually instead.\n",
      "  bwexp = dilation(bw, np.ones([args['context_size'], args['context_size']]), shift_x=True, shift_y=True)\n"
     ]
    },
    {
     "name": "stdout",
     "output_type": "stream",
     "text": [
      "\n"
     ]
    },
    {
     "name": "stderr",
     "output_type": "stream",
     "text": [
      "/home/janwillem/.conda/envs/caiman-env/lib/python3.9/site-packages/caiman/source_extraction/volpy/spikepursuit.py:194: FutureWarning: The parameters `shift_x` and `shift_y` are deprecated since v0.23 and will be removed in v0.26. Use `pad_footprint` or modify the footprintmanually instead.\n",
      "  bwexp = dilation(bw, np.ones([args['context_size'], args['context_size']]), shift_x=True, shift_y=True)\n",
      "/home/janwillem/.conda/envs/caiman-env/lib/python3.9/site-packages/caiman/source_extraction/volpy/spikepursuit.py:194: FutureWarning: The parameters `shift_x` and `shift_y` are deprecated since v0.23 and will be removed in v0.26. Use `pad_footprint` or modify the footprintmanually instead.\n",
      "  bwexp = dilation(bw, np.ones([args['context_size'], args['context_size']]), shift_x=True, shift_y=True)\n",
      "WARNING:root:Few spikes were detected. Adjusting threshold to take 10 largest spikes\n",
      "WARNING:root:Few spikes were detected. Adjusting threshold to take 10 largest spikes\n",
      "WARNING:root:Few spikes were detected. Adjusting threshold to take 10 largest spikes\n",
      "WARNING:root:Few spikes were detected. Adjusting threshold to take 10 largest spikes\n",
      "WARNING:root:Few spikes were detected. Adjusting threshold to take 10 largest spikes\n",
      "WARNING:root:Few spikes were detected. Adjusting threshold to take 10 largest spikes\n",
      "WARNING:root:Few spikes were detected. Adjusting threshold to take 10 largest spikes\n",
      "WARNING:root:Few spikes were detected. Adjusting threshold to take 10 largest spikes\n",
      "WARNING:root:Few spikes were detected. Adjusting threshold to take 10 largest spikes\n",
      "WARNING:root:Few spikes were detected. Adjusting threshold to take 10 largest spikes\n",
      "WARNING:root:Selecting top 100 spikes for template\n",
      "WARNING:root:Few spikes were detected. Adjusting threshold to take 10 largest spikes\n",
      "WARNING:root:Few spikes were detected. Adjusting threshold to take 10 largest spikes\n",
      "WARNING:root:Few spikes were detected. Adjusting threshold to take 10 largest spikes\n",
      "WARNING:root:Few spikes were detected. Adjusting threshold to take 10 largest spikes\n",
      "WARNING:root:Few spikes were detected. Adjusting threshold to take 10 largest spikes\n",
      "WARNING:root:Few spikes were detected. Adjusting threshold to take 10 largest spikes\n",
      "WARNING:root:Few spikes were detected. Adjusting threshold to take 10 largest spikes\n",
      "WARNING:root:Few spikes were detected. Adjusting threshold to take 10 largest spikes\n",
      "WARNING:root:Few spikes were detected. Adjusting threshold to take 10 largest spikes\n",
      "WARNING:root:Few spikes were detected. Adjusting threshold to take 10 largest spikes\n"
     ]
    },
    {
     "name": "stdout",
     "output_type": "stream",
     "text": [
      "Now processing cell number 11Now processing cell number 12Now processing cell number 15Now processing cell number 16Now processing cell number 14Now processing cell number 13\n",
      "Now processing cell number 18Now processing cell number 17\n",
      "\n",
      "\n",
      "\n",
      "Now processing cell number 20\n",
      "Now processing cell number 19\n"
     ]
    },
    {
     "name": "stderr",
     "output_type": "stream",
     "text": [
      "/home/janwillem/.conda/envs/caiman-env/lib/python3.9/site-packages/caiman/source_extraction/volpy/spikepursuit.py:194: FutureWarning: The parameters `shift_x` and `shift_y` are deprecated since v0.23 and will be removed in v0.26. Use `pad_footprint` or modify the footprintmanually instead.\n",
      "  bwexp = dilation(bw, np.ones([args['context_size'], args['context_size']]), shift_x=True, shift_y=True)\n"
     ]
    },
    {
     "name": "stdout",
     "output_type": "stream",
     "text": [
      "\n"
     ]
    },
    {
     "name": "stderr",
     "output_type": "stream",
     "text": [
      "/home/janwillem/.conda/envs/caiman-env/lib/python3.9/site-packages/caiman/source_extraction/volpy/spikepursuit.py:194: FutureWarning: The parameters `shift_x` and `shift_y` are deprecated since v0.23 and will be removed in v0.26. Use `pad_footprint` or modify the footprintmanually instead.\n",
      "  bwexp = dilation(bw, np.ones([args['context_size'], args['context_size']]), shift_x=True, shift_y=True)\n",
      "/home/janwillem/.conda/envs/caiman-env/lib/python3.9/site-packages/caiman/source_extraction/volpy/spikepursuit.py:194: FutureWarning: The parameters `shift_x` and `shift_y` are deprecated since v0.23 and will be removed in v0.26. Use `pad_footprint` or modify the footprintmanually instead.\n",
      "  bwexp = dilation(bw, np.ones([args['context_size'], args['context_size']]), shift_x=True, shift_y=True)\n",
      "/home/janwillem/.conda/envs/caiman-env/lib/python3.9/site-packages/caiman/source_extraction/volpy/spikepursuit.py:194: FutureWarning: The parameters `shift_x` and `shift_y` are deprecated since v0.23 and will be removed in v0.26. Use `pad_footprint` or modify the footprintmanually instead.\n",
      "  bwexp = dilation(bw, np.ones([args['context_size'], args['context_size']]), shift_x=True, shift_y=True)\n",
      "/home/janwillem/.conda/envs/caiman-env/lib/python3.9/site-packages/caiman/source_extraction/volpy/spikepursuit.py:194: FutureWarning: The parameters `shift_x` and `shift_y` are deprecated since v0.23 and will be removed in v0.26. Use `pad_footprint` or modify the footprintmanually instead.\n",
      "  bwexp = dilation(bw, np.ones([args['context_size'], args['context_size']]), shift_x=True, shift_y=True)\n"
     ]
    },
    {
     "name": "stdout",
     "output_type": "stream",
     "text": [
      "\n",
      "\n"
     ]
    },
    {
     "name": "stderr",
     "output_type": "stream",
     "text": [
      "/home/janwillem/.conda/envs/caiman-env/lib/python3.9/site-packages/caiman/source_extraction/volpy/spikepursuit.py:194: FutureWarning: The parameters `shift_x` and `shift_y` are deprecated since v0.23 and will be removed in v0.26. Use `pad_footprint` or modify the footprintmanually instead.\n",
      "  bwexp = dilation(bw, np.ones([args['context_size'], args['context_size']]), shift_x=True, shift_y=True)\n",
      "/home/janwillem/.conda/envs/caiman-env/lib/python3.9/site-packages/caiman/source_extraction/volpy/spikepursuit.py:194: FutureWarning: The parameters `shift_x` and `shift_y` are deprecated since v0.23 and will be removed in v0.26. Use `pad_footprint` or modify the footprintmanually instead.\n",
      "  bwexp = dilation(bw, np.ones([args['context_size'], args['context_size']]), shift_x=True, shift_y=True)\n",
      "/home/janwillem/.conda/envs/caiman-env/lib/python3.9/site-packages/caiman/source_extraction/volpy/spikepursuit.py:194: FutureWarning: The parameters `shift_x` and `shift_y` are deprecated since v0.23 and will be removed in v0.26. Use `pad_footprint` or modify the footprintmanually instead.\n",
      "  bwexp = dilation(bw, np.ones([args['context_size'], args['context_size']]), shift_x=True, shift_y=True)\n",
      "/home/janwillem/.conda/envs/caiman-env/lib/python3.9/site-packages/caiman/source_extraction/volpy/spikepursuit.py:194: FutureWarning: The parameters `shift_x` and `shift_y` are deprecated since v0.23 and will be removed in v0.26. Use `pad_footprint` or modify the footprintmanually instead.\n",
      "  bwexp = dilation(bw, np.ones([args['context_size'], args['context_size']]), shift_x=True, shift_y=True)\n",
      "/home/janwillem/.conda/envs/caiman-env/lib/python3.9/site-packages/caiman/source_extraction/volpy/spikepursuit.py:194: FutureWarning: The parameters `shift_x` and `shift_y` are deprecated since v0.23 and will be removed in v0.26. Use `pad_footprint` or modify the footprintmanually instead.\n",
      "  bwexp = dilation(bw, np.ones([args['context_size'], args['context_size']]), shift_x=True, shift_y=True)\n"
     ]
    },
    {
     "name": "stdout",
     "output_type": "stream",
     "text": [
      "Now processing cell number 21\n"
     ]
    },
    {
     "name": "stderr",
     "output_type": "stream",
     "text": [
      "/home/janwillem/.conda/envs/caiman-env/lib/python3.9/site-packages/caiman/source_extraction/volpy/spikepursuit.py:194: FutureWarning: The parameters `shift_x` and `shift_y` are deprecated since v0.23 and will be removed in v0.26. Use `pad_footprint` or modify the footprintmanually instead.\n",
      "  bwexp = dilation(bw, np.ones([args['context_size'], args['context_size']]), shift_x=True, shift_y=True)\n",
      "WARNING:root:Few spikes were detected. Adjusting threshold to take 10 largest spikes\n",
      "WARNING:root:Selecting top 100 spikes for template\n",
      "WARNING:root:Few spikes were detected. Adjusting threshold to take 10 largest spikes\n",
      "WARNING:root:Few spikes were detected. Adjusting threshold to take 10 largest spikes\n",
      "WARNING:root:Few spikes were detected. Adjusting threshold to take 10 largest spikes\n",
      "WARNING:root:Few spikes were detected. Adjusting threshold to take 10 largest spikes\n",
      "WARNING:root:Few spikes were detected. Adjusting threshold to take 10 largest spikes\n",
      "WARNING:root:Few spikes were detected. Adjusting threshold to take 10 largest spikes\n",
      "WARNING:root:Few spikes were detected. Adjusting threshold to take 10 largest spikes\n",
      "WARNING:root:Few spikes were detected. Adjusting threshold to take 10 largest spikes\n",
      "WARNING:root:Few spikes were detected. Adjusting threshold to take 10 largest spikes\n",
      "WARNING:root:Selecting top 100 spikes for template\n",
      "WARNING:root:Few spikes were detected. Adjusting threshold to take 10 largest spikes\n",
      "WARNING:root:Few spikes were detected. Adjusting threshold to take 10 largest spikes\n"
     ]
    },
    {
     "name": "stdout",
     "output_type": "stream",
     "text": [
      "Now processing cell number 22Now processing cell number 23Now processing cell number 24Now processing cell number 28Now processing cell number 25Now processing cell number 27Now processing cell number 26\n",
      "Now processing cell number 29Now processing cell number 30\n",
      "\n",
      "\n",
      "\n",
      "\n",
      "\n"
     ]
    },
    {
     "name": "stderr",
     "output_type": "stream",
     "text": [
      "/home/janwillem/.conda/envs/caiman-env/lib/python3.9/site-packages/caiman/source_extraction/volpy/spikepursuit.py:194: FutureWarning: The parameters `shift_x` and `shift_y` are deprecated since v0.23 and will be removed in v0.26. Use `pad_footprint` or modify the footprintmanually instead.\n",
      "  bwexp = dilation(bw, np.ones([args['context_size'], args['context_size']]), shift_x=True, shift_y=True)\n"
     ]
    },
    {
     "name": "stdout",
     "output_type": "stream",
     "text": [
      "\n",
      "\n"
     ]
    },
    {
     "name": "stderr",
     "output_type": "stream",
     "text": [
      "/home/janwillem/.conda/envs/caiman-env/lib/python3.9/site-packages/caiman/source_extraction/volpy/spikepursuit.py:194: FutureWarning: The parameters `shift_x` and `shift_y` are deprecated since v0.23 and will be removed in v0.26. Use `pad_footprint` or modify the footprintmanually instead.\n",
      "  bwexp = dilation(bw, np.ones([args['context_size'], args['context_size']]), shift_x=True, shift_y=True)\n",
      "/home/janwillem/.conda/envs/caiman-env/lib/python3.9/site-packages/caiman/source_extraction/volpy/spikepursuit.py:194: FutureWarning: The parameters `shift_x` and `shift_y` are deprecated since v0.23 and will be removed in v0.26. Use `pad_footprint` or modify the footprintmanually instead.\n",
      "  bwexp = dilation(bw, np.ones([args['context_size'], args['context_size']]), shift_x=True, shift_y=True)\n",
      "/home/janwillem/.conda/envs/caiman-env/lib/python3.9/site-packages/caiman/source_extraction/volpy/spikepursuit.py:194: FutureWarning: The parameters `shift_x` and `shift_y` are deprecated since v0.23 and will be removed in v0.26. Use `pad_footprint` or modify the footprintmanually instead.\n",
      "  bwexp = dilation(bw, np.ones([args['context_size'], args['context_size']]), shift_x=True, shift_y=True)\n",
      "/home/janwillem/.conda/envs/caiman-env/lib/python3.9/site-packages/caiman/source_extraction/volpy/spikepursuit.py:194: FutureWarning: The parameters `shift_x` and `shift_y` are deprecated since v0.23 and will be removed in v0.26. Use `pad_footprint` or modify the footprintmanually instead.\n",
      "  bwexp = dilation(bw, np.ones([args['context_size'], args['context_size']]), shift_x=True, shift_y=True)\n",
      "/home/janwillem/.conda/envs/caiman-env/lib/python3.9/site-packages/caiman/source_extraction/volpy/spikepursuit.py:194: FutureWarning: The parameters `shift_x` and `shift_y` are deprecated since v0.23 and will be removed in v0.26. Use `pad_footprint` or modify the footprintmanually instead.\n",
      "  bwexp = dilation(bw, np.ones([args['context_size'], args['context_size']]), shift_x=True, shift_y=True)\n",
      "/home/janwillem/.conda/envs/caiman-env/lib/python3.9/site-packages/caiman/source_extraction/volpy/spikepursuit.py:194: FutureWarning: The parameters `shift_x` and `shift_y` are deprecated since v0.23 and will be removed in v0.26. Use `pad_footprint` or modify the footprintmanually instead.\n",
      "  bwexp = dilation(bw, np.ones([args['context_size'], args['context_size']]), shift_x=True, shift_y=True)\n",
      "/home/janwillem/.conda/envs/caiman-env/lib/python3.9/site-packages/caiman/source_extraction/volpy/spikepursuit.py:194: FutureWarning: The parameters `shift_x` and `shift_y` are deprecated since v0.23 and will be removed in v0.26. Use `pad_footprint` or modify the footprintmanually instead.\n",
      "  bwexp = dilation(bw, np.ones([args['context_size'], args['context_size']]), shift_x=True, shift_y=True)\n",
      "/home/janwillem/.conda/envs/caiman-env/lib/python3.9/site-packages/caiman/source_extraction/volpy/spikepursuit.py:194: FutureWarning: The parameters `shift_x` and `shift_y` are deprecated since v0.23 and will be removed in v0.26. Use `pad_footprint` or modify the footprintmanually instead.\n",
      "  bwexp = dilation(bw, np.ones([args['context_size'], args['context_size']]), shift_x=True, shift_y=True)\n"
     ]
    },
    {
     "name": "stdout",
     "output_type": "stream",
     "text": [
      "Now processing cell number 31\n"
     ]
    },
    {
     "name": "stderr",
     "output_type": "stream",
     "text": [
      "/home/janwillem/.conda/envs/caiman-env/lib/python3.9/site-packages/caiman/source_extraction/volpy/spikepursuit.py:194: FutureWarning: The parameters `shift_x` and `shift_y` are deprecated since v0.23 and will be removed in v0.26. Use `pad_footprint` or modify the footprintmanually instead.\n",
      "  bwexp = dilation(bw, np.ones([args['context_size'], args['context_size']]), shift_x=True, shift_y=True)\n"
     ]
    },
    {
     "name": "stdout",
     "output_type": "stream",
     "text": [
      "Now processing cell number 32\n"
     ]
    },
    {
     "name": "stderr",
     "output_type": "stream",
     "text": [
      "/home/janwillem/.conda/envs/caiman-env/lib/python3.9/site-packages/caiman/source_extraction/volpy/spikepursuit.py:194: FutureWarning: The parameters `shift_x` and `shift_y` are deprecated since v0.23 and will be removed in v0.26. Use `pad_footprint` or modify the footprintmanually instead.\n",
      "  bwexp = dilation(bw, np.ones([args['context_size'], args['context_size']]), shift_x=True, shift_y=True)\n",
      "WARNING:root:Few spikes were detected. Adjusting threshold to take 10 largest spikes\n",
      "WARNING:root:Few spikes were detected. Adjusting threshold to take 10 largest spikes\n",
      "WARNING:root:Few spikes were detected. Adjusting threshold to take 10 largest spikes\n",
      "WARNING:root:Few spikes were detected. Adjusting threshold to take 10 largest spikes\n",
      "WARNING:root:Few spikes were detected. Adjusting threshold to take 10 largest spikes\n",
      "WARNING:root:Few spikes were detected. Adjusting threshold to take 10 largest spikes\n",
      "WARNING:root:Selecting top 100 spikes for template\n",
      "WARNING:root:Few spikes were detected. Adjusting threshold to take 10 largest spikes\n",
      "WARNING:root:Few spikes were detected. Adjusting threshold to take 10 largest spikes\n",
      "WARNING:root:Few spikes were detected. Adjusting threshold to take 10 largest spikes\n",
      "WARNING:root:Few spikes were detected. Adjusting threshold to take 10 largest spikes\n",
      "WARNING:root:Few spikes were detected. Adjusting threshold to take 10 largest spikes\n",
      "WARNING:root:Selecting top 100 spikes for template\n",
      "/home/janwillem/.conda/envs/caiman-env/lib/python3.9/site-packages/caiman/source_extraction/volpy/spikepursuit.py:612: RuntimeWarning: invalid value encountered in scalar divide\n",
      "  detectionRate = (csf2[ix] - csmodel2[ix]) / np.max(csf2 - csmodel2)\n",
      "WARNING:root:Few spikes were detected. Adjusting threshold to take 10 largest spikes\n",
      "WARNING:root:Few spikes were detected. Adjusting threshold to take 10 largest spikes\n",
      "WARNING:root:Few spikes were detected. Adjusting threshold to take 10 largest spikes\n",
      "WARNING:root:Few spikes were detected. Adjusting threshold to take 10 largest spikes\n",
      "WARNING:root:Few spikes were detected. Adjusting threshold to take 10 largest spikes\n",
      "WARNING:root:Few spikes were detected. Adjusting threshold to take 10 largest spikes\n",
      "WARNING:root:Few spikes were detected. Adjusting threshold to take 10 largest spikes\n",
      "WARNING:root:Few spikes were detected. Adjusting threshold to take 10 largest spikes\n",
      "WARNING:root:Few spikes were detected. Adjusting threshold to take 10 largest spikes\n"
     ]
    },
    {
     "name": "stdout",
     "output_type": "stream",
     "text": [
      "Now processing cell number 33Now processing cell number 34Now processing cell number 35Now processing cell number 37Now processing cell number 36Now processing cell number 38Now processing cell number 39\n",
      "Now processing cell number 40Now processing cell number 41\n",
      "\n",
      "\n",
      "\n",
      "\n",
      "Now processing cell number 42\n",
      "\n",
      "\n"
     ]
    },
    {
     "name": "stderr",
     "output_type": "stream",
     "text": [
      "/home/janwillem/.conda/envs/caiman-env/lib/python3.9/site-packages/caiman/source_extraction/volpy/spikepursuit.py:194: FutureWarning: The parameters `shift_x` and `shift_y` are deprecated since v0.23 and will be removed in v0.26. Use `pad_footprint` or modify the footprintmanually instead.\n",
      "  bwexp = dilation(bw, np.ones([args['context_size'], args['context_size']]), shift_x=True, shift_y=True)\n",
      "/home/janwillem/.conda/envs/caiman-env/lib/python3.9/site-packages/caiman/source_extraction/volpy/spikepursuit.py:194: FutureWarning: The parameters `shift_x` and `shift_y` are deprecated since v0.23 and will be removed in v0.26. Use `pad_footprint` or modify the footprintmanually instead.\n",
      "  bwexp = dilation(bw, np.ones([args['context_size'], args['context_size']]), shift_x=True, shift_y=True)\n",
      "/home/janwillem/.conda/envs/caiman-env/lib/python3.9/site-packages/caiman/source_extraction/volpy/spikepursuit.py:194: FutureWarning: The parameters `shift_x` and `shift_y` are deprecated since v0.23 and will be removed in v0.26. Use `pad_footprint` or modify the footprintmanually instead.\n",
      "  bwexp = dilation(bw, np.ones([args['context_size'], args['context_size']]), shift_x=True, shift_y=True)\n",
      "/home/janwillem/.conda/envs/caiman-env/lib/python3.9/site-packages/caiman/source_extraction/volpy/spikepursuit.py:194: FutureWarning: The parameters `shift_x` and `shift_y` are deprecated since v0.23 and will be removed in v0.26. Use `pad_footprint` or modify the footprintmanually instead.\n",
      "  bwexp = dilation(bw, np.ones([args['context_size'], args['context_size']]), shift_x=True, shift_y=True)\n"
     ]
    },
    {
     "name": "stdout",
     "output_type": "stream",
     "text": [
      "\n"
     ]
    },
    {
     "name": "stderr",
     "output_type": "stream",
     "text": [
      "/home/janwillem/.conda/envs/caiman-env/lib/python3.9/site-packages/caiman/source_extraction/volpy/spikepursuit.py:194: FutureWarning: The parameters `shift_x` and `shift_y` are deprecated since v0.23 and will be removed in v0.26. Use `pad_footprint` or modify the footprintmanually instead.\n",
      "  bwexp = dilation(bw, np.ones([args['context_size'], args['context_size']]), shift_x=True, shift_y=True)\n",
      "/home/janwillem/.conda/envs/caiman-env/lib/python3.9/site-packages/caiman/source_extraction/volpy/spikepursuit.py:194: FutureWarning: The parameters `shift_x` and `shift_y` are deprecated since v0.23 and will be removed in v0.26. Use `pad_footprint` or modify the footprintmanually instead.\n",
      "  bwexp = dilation(bw, np.ones([args['context_size'], args['context_size']]), shift_x=True, shift_y=True)\n",
      "/home/janwillem/.conda/envs/caiman-env/lib/python3.9/site-packages/caiman/source_extraction/volpy/spikepursuit.py:194: FutureWarning: The parameters `shift_x` and `shift_y` are deprecated since v0.23 and will be removed in v0.26. Use `pad_footprint` or modify the footprintmanually instead.\n",
      "  bwexp = dilation(bw, np.ones([args['context_size'], args['context_size']]), shift_x=True, shift_y=True)\n",
      "/home/janwillem/.conda/envs/caiman-env/lib/python3.9/site-packages/caiman/source_extraction/volpy/spikepursuit.py:194: FutureWarning: The parameters `shift_x` and `shift_y` are deprecated since v0.23 and will be removed in v0.26. Use `pad_footprint` or modify the footprintmanually instead.\n",
      "  bwexp = dilation(bw, np.ones([args['context_size'], args['context_size']]), shift_x=True, shift_y=True)\n",
      "/home/janwillem/.conda/envs/caiman-env/lib/python3.9/site-packages/caiman/source_extraction/volpy/spikepursuit.py:194: FutureWarning: The parameters `shift_x` and `shift_y` are deprecated since v0.23 and will be removed in v0.26. Use `pad_footprint` or modify the footprintmanually instead.\n",
      "  bwexp = dilation(bw, np.ones([args['context_size'], args['context_size']]), shift_x=True, shift_y=True)\n",
      "/home/janwillem/.conda/envs/caiman-env/lib/python3.9/site-packages/caiman/source_extraction/volpy/spikepursuit.py:194: FutureWarning: The parameters `shift_x` and `shift_y` are deprecated since v0.23 and will be removed in v0.26. Use `pad_footprint` or modify the footprintmanually instead.\n",
      "  bwexp = dilation(bw, np.ones([args['context_size'], args['context_size']]), shift_x=True, shift_y=True)\n"
     ]
    },
    {
     "name": "stdout",
     "output_type": "stream",
     "text": [
      "Now processing cell number 43\n"
     ]
    },
    {
     "name": "stderr",
     "output_type": "stream",
     "text": [
      "/home/janwillem/.conda/envs/caiman-env/lib/python3.9/site-packages/caiman/source_extraction/volpy/spikepursuit.py:194: FutureWarning: The parameters `shift_x` and `shift_y` are deprecated since v0.23 and will be removed in v0.26. Use `pad_footprint` or modify the footprintmanually instead.\n",
      "  bwexp = dilation(bw, np.ones([args['context_size'], args['context_size']]), shift_x=True, shift_y=True)\n",
      "WARNING:root:Few spikes were detected. Adjusting threshold to take 10 largest spikes\n",
      "WARNING:root:Few spikes were detected. Adjusting threshold to take 10 largest spikes\n",
      "WARNING:root:Few spikes were detected. Adjusting threshold to take 10 largest spikes\n",
      "WARNING:root:Few spikes were detected. Adjusting threshold to take 10 largest spikes\n",
      "WARNING:root:Few spikes were detected. Adjusting threshold to take 10 largest spikes\n",
      "WARNING:root:Few spikes were detected. Adjusting threshold to take 10 largest spikes\n",
      "WARNING:root:Selecting top 100 spikes for template\n",
      "WARNING:root:Few spikes were detected. Adjusting threshold to take 10 largest spikes\n",
      "WARNING:root:Few spikes were detected. Adjusting threshold to take 10 largest spikes\n",
      "WARNING:root:Few spikes were detected. Adjusting threshold to take 10 largest spikes\n",
      "WARNING:root:Few spikes were detected. Adjusting threshold to take 10 largest spikes\n",
      "WARNING:root:Few spikes were detected. Adjusting threshold to take 10 largest spikes\n",
      "WARNING:root:Few spikes were detected. Adjusting threshold to take 10 largest spikes\n",
      "WARNING:root:Few spikes were detected. Adjusting threshold to take 10 largest spikes\n",
      "WARNING:root:Selecting top 100 spikes for template\n",
      "WARNING:root:Few spikes were detected. Adjusting threshold to take 10 largest spikes\n",
      "WARNING:root:Few spikes were detected. Adjusting threshold to take 10 largest spikes\n",
      "WARNING:root:Few spikes were detected. Adjusting threshold to take 10 largest spikes\n",
      "WARNING:root:Few spikes were detected. Adjusting threshold to take 10 largest spikes\n",
      "WARNING:root:Few spikes were detected. Adjusting threshold to take 10 largest spikes\n",
      "WARNING:root:Few spikes were detected. Adjusting threshold to take 10 largest spikes\n",
      "WARNING:root:Few spikes were detected. Adjusting threshold to take 10 largest spikes\n",
      "WARNING:root:Few spikes were detected. Adjusting threshold to take 10 largest spikes\n",
      "WARNING:root:Few spikes were detected. Adjusting threshold to take 10 largest spikes\n"
     ]
    },
    {
     "name": "stdout",
     "output_type": "stream",
     "text": [
      "Now processing cell number 44Now processing cell number 45Now processing cell number 46Now processing cell number 47\n",
      "Now processing cell number 48Now processing cell number 49\n",
      "Now processing cell number 50Now processing cell number 51Now processing cell number 52\n",
      "\n",
      "\n",
      "\n",
      "\n"
     ]
    },
    {
     "name": "stderr",
     "output_type": "stream",
     "text": [
      "/home/janwillem/.conda/envs/caiman-env/lib/python3.9/site-packages/caiman/source_extraction/volpy/spikepursuit.py:194: FutureWarning: The parameters `shift_x` and `shift_y` are deprecated since v0.23 and will be removed in v0.26. Use `pad_footprint` or modify the footprintmanually instead.\n",
      "  bwexp = dilation(bw, np.ones([args['context_size'], args['context_size']]), shift_x=True, shift_y=True)\n"
     ]
    },
    {
     "name": "stdout",
     "output_type": "stream",
     "text": [
      "Now processing cell number 53\n",
      "\n"
     ]
    },
    {
     "name": "stderr",
     "output_type": "stream",
     "text": [
      "/home/janwillem/.conda/envs/caiman-env/lib/python3.9/site-packages/caiman/source_extraction/volpy/spikepursuit.py:194: FutureWarning: The parameters `shift_x` and `shift_y` are deprecated since v0.23 and will be removed in v0.26. Use `pad_footprint` or modify the footprintmanually instead.\n",
      "  bwexp = dilation(bw, np.ones([args['context_size'], args['context_size']]), shift_x=True, shift_y=True)\n",
      "/home/janwillem/.conda/envs/caiman-env/lib/python3.9/site-packages/caiman/source_extraction/volpy/spikepursuit.py:194: FutureWarning: The parameters `shift_x` and `shift_y` are deprecated since v0.23 and will be removed in v0.26. Use `pad_footprint` or modify the footprintmanually instead.\n",
      "  bwexp = dilation(bw, np.ones([args['context_size'], args['context_size']]), shift_x=True, shift_y=True)\n"
     ]
    },
    {
     "name": "stdout",
     "output_type": "stream",
     "text": [
      "\n"
     ]
    },
    {
     "name": "stderr",
     "output_type": "stream",
     "text": [
      "/home/janwillem/.conda/envs/caiman-env/lib/python3.9/site-packages/caiman/source_extraction/volpy/spikepursuit.py:194: FutureWarning: The parameters `shift_x` and `shift_y` are deprecated since v0.23 and will be removed in v0.26. Use `pad_footprint` or modify the footprintmanually instead.\n",
      "  bwexp = dilation(bw, np.ones([args['context_size'], args['context_size']]), shift_x=True, shift_y=True)\n",
      "/home/janwillem/.conda/envs/caiman-env/lib/python3.9/site-packages/caiman/source_extraction/volpy/spikepursuit.py:194: FutureWarning: The parameters `shift_x` and `shift_y` are deprecated since v0.23 and will be removed in v0.26. Use `pad_footprint` or modify the footprintmanually instead.\n",
      "  bwexp = dilation(bw, np.ones([args['context_size'], args['context_size']]), shift_x=True, shift_y=True)\n",
      "/home/janwillem/.conda/envs/caiman-env/lib/python3.9/site-packages/caiman/source_extraction/volpy/spikepursuit.py:194: FutureWarning: The parameters `shift_x` and `shift_y` are deprecated since v0.23 and will be removed in v0.26. Use `pad_footprint` or modify the footprintmanually instead.\n",
      "  bwexp = dilation(bw, np.ones([args['context_size'], args['context_size']]), shift_x=True, shift_y=True)\n",
      "/home/janwillem/.conda/envs/caiman-env/lib/python3.9/site-packages/caiman/source_extraction/volpy/spikepursuit.py:194: FutureWarning: The parameters `shift_x` and `shift_y` are deprecated since v0.23 and will be removed in v0.26. Use `pad_footprint` or modify the footprintmanually instead.\n",
      "  bwexp = dilation(bw, np.ones([args['context_size'], args['context_size']]), shift_x=True, shift_y=True)\n",
      "/home/janwillem/.conda/envs/caiman-env/lib/python3.9/site-packages/caiman/source_extraction/volpy/spikepursuit.py:194: FutureWarning: The parameters `shift_x` and `shift_y` are deprecated since v0.23 and will be removed in v0.26. Use `pad_footprint` or modify the footprintmanually instead.\n",
      "  bwexp = dilation(bw, np.ones([args['context_size'], args['context_size']]), shift_x=True, shift_y=True)\n",
      "/home/janwillem/.conda/envs/caiman-env/lib/python3.9/site-packages/caiman/source_extraction/volpy/spikepursuit.py:194: FutureWarning: The parameters `shift_x` and `shift_y` are deprecated since v0.23 and will be removed in v0.26. Use `pad_footprint` or modify the footprintmanually instead.\n",
      "  bwexp = dilation(bw, np.ones([args['context_size'], args['context_size']]), shift_x=True, shift_y=True)\n",
      "/home/janwillem/.conda/envs/caiman-env/lib/python3.9/site-packages/caiman/source_extraction/volpy/spikepursuit.py:194: FutureWarning: The parameters `shift_x` and `shift_y` are deprecated since v0.23 and will be removed in v0.26. Use `pad_footprint` or modify the footprintmanually instead.\n",
      "  bwexp = dilation(bw, np.ones([args['context_size'], args['context_size']]), shift_x=True, shift_y=True)\n"
     ]
    },
    {
     "name": "stdout",
     "output_type": "stream",
     "text": [
      "Now processing cell number 54\n"
     ]
    },
    {
     "name": "stderr",
     "output_type": "stream",
     "text": [
      "/home/janwillem/.conda/envs/caiman-env/lib/python3.9/site-packages/caiman/source_extraction/volpy/spikepursuit.py:194: FutureWarning: The parameters `shift_x` and `shift_y` are deprecated since v0.23 and will be removed in v0.26. Use `pad_footprint` or modify the footprintmanually instead.\n",
      "  bwexp = dilation(bw, np.ones([args['context_size'], args['context_size']]), shift_x=True, shift_y=True)\n"
     ]
    }
   ],
   "source": [
    "# Restart cluster to clean up memory\n",
    "cm.stop_server(dview=dview)\n",
    "c, dview, n_processes = cm.cluster.setup_cluster(\n",
    "    backend='multiprocessing', n_processes=None, single_thread=False, maxtasksperchild=1)"
   ]
  },
  {
   "cell_type": "markdown",
   "metadata": {},
   "source": [
    "## Trace denoising and spike extraction"
   ]
  },
  {
   "cell_type": "code",
   "execution_count": 8,
   "metadata": {
    "colab": {
     "background_save": true
    },
    "id": "wCNTy-LZHRn6"
   },
   "outputs": [
    {
     "data": {
      "text/plain": [
       "'./test.tif'"
      ]
     },
     "execution_count": 8,
     "metadata": {},
     "output_type": "execute_result"
    }
   ],
   "source": [
    "m_orig.save('./test.tif')"
   ]
  },
  {
   "cell_type": "code",
   "execution_count": 23,
   "metadata": {
    "colab": {
     "background_save": true
    },
    "id": "wCNTy-LZHRn6"
   },
   "outputs": [],
   "source": [
    "test_tif = cm.load('./test.tif')"
   ]
  },
  {
   "cell_type": "code",
   "execution_count": 24,
   "metadata": {
    "colab": {
     "background_save": true
    },
    "id": "wCNTy-LZHRn6"
   },
   "outputs": [
    {
     "data": {
      "text/plain": [
       "(7500, 116, 498)"
      ]
     },
     "execution_count": 24,
     "metadata": {},
     "output_type": "execute_result"
    }
   ],
   "source": [
    "test_tif.shape"
   ]
  },
  {
   "cell_type": "code",
   "execution_count": 39,
   "metadata": {
    "colab": {
     "background_save": true
    },
    "id": "wCNTy-LZHRn6"
   },
   "outputs": [],
   "source": [
    "ROIs = np.zeros((2, 180, 512), dtype='bool')\n",
    "ROIs[0, 25:160, 20:480] = True\n",
    "ROIs[1, 25:160, 20:480] = True"
   ]
  },
  {
   "cell_type": "code",
   "execution_count": 48,
   "metadata": {
    "colab": {
     "background_save": true
    },
    "id": "wCNTy-LZHRn6"
   },
   "outputs": [
    {
     "name": "stderr",
     "output_type": "stream",
     "text": [
      "WARNING:root:Changing key context_size in group volspike from 35 to 60\n"
     ]
    }
   ],
   "source": [
    "# Parameters for trace denoising and spike extraction\n",
    "ROIs = ROIs                                   # region of interests\n",
    "index = list(range(len(ROIs)))                # index of neurons\n",
    "weights = None                                # if None, use ROIs for initialization; to reuse weights check reuse weights block \n",
    "\n",
    "template_size = 0.02[ 5  7  9 12 18 21 26 28 35 37 42 45 46 48 54]                          # half size of the window length for spike templates, default is 20 ms \n",
    "context_size = 60                             # number of pixels surrounding the ROI to censor from the background PCA\n",
    "visualize_ROI = False                         # whether to visualize the region of interest inside the context region\n",
    "flip_signal = True                            # Important!! Flip signal or not, True for Voltron indicator, False for others\n",
    "hp_freq_pb = 1 / 3                            # parameter for high-pass filter to remove photobleaching\n",
    "clip = 100                                    # maximum number of spikes to form spike template\n",
    "threshold_method = 'adaptive_threshold'       # adaptive_threshold or simple \n",
    "min_spikes= 10                                # minimal spikes to be found\n",
    "pnorm = 0.5                                   # a variable deciding the amount of spikes chosen for adaptive threshold method\n",
    "threshold = 3                                 # threshold for finding spikes only used in simple threshold method, Increase the threshold to find less spikes\n",
    "do_plot = False                               # plot detail of spikes, template for the last iteration\n",
    "ridge_bg= 0.01                                # ridge regression regularizer strength for background removement, larger value specifies stronger regularization \n",
    "sub_freq = 20                                 # frequency for subthreshold extraction\n",
    "weight_update = 'ridge'                       # ridge or NMF for weight update\n",
    "n_iter = 2                                    # number of iterations alternating between estimating spike times and spatial filters\n",
    "opts_dict={'fnames': fname_new,\n",
    "            'ROIs': ROIs,\n",
    "            'index': index,\n",
    "            'weights': weights,\n",
    "            'template_size': template_size, \n",
    "            'context_size': context_size,\n",
    "            'visualize_ROI': visualize_ROI, \n",
    "            'flip_signal': flip_signal,\n",
    "            'hp_freq_pb': hp_freq_pb,\n",
    "            'clip': clip,\n",
    "            'threshold_method': threshold_method,\n",
    "            'min_spikes':min_spikes,\n",
    "            'pnorm': pnorm, \n",
    "            'threshold': threshold,\n",
    "            'do_plot':do_plot,\n",
    "            'ridge_bg':ridge_bg,\n",
    "            'sub_freq': sub_freq,\n",
    "            'weight_update': weight_update,\n",
    "            'n_iter': n_iter}\n",
    "\n",
    "opts.change_params(params_dict=opts_dict);    "
   ]
  },
  {
   "cell_type": "code",
   "execution_count": null,
   "metadata": {
    "colab": {
     "background_save": true
    },
    "id": "IAm_iznuHRoA"
   },
   "outputs": [],
   "source": [
    "vpy = VOLPY(n_processes=n_processes, dview=dview, params=opts)\n",
    "vpy.fit(n_processes=n_processes, dview=dview)"
   ]
  },
  {
   "cell_type": "markdown",
   "metadata": {},
   "source": [
    "## Visualization"
   ]
  },
  {
   "cell_type": "code",
   "execution_count": null,
   "metadata": {
    "colab": {
     "background_save": true
    },
    "id": "L9Otq9-hJMMj"
   },
   "outputs": [],
   "source": [
    "# Visualize spatial footprints and traces\n",
    "print(np.where(vpy.estimates['locality'])[0])    # neurons that pass locality test\n",
    "idx = np.where(vpy.estimates['locality'] > 0)[0]\n",
    "print(idx)\n",
    "utils.view_components(vpy.estimates, img_corr, idx)"
   ]
  },
  {
   "cell_type": "code",
   "execution_count": 46,
   "metadata": {
    "colab": {
     "background_save": true
    },
    "id": "L9Otq9-hJMMj"
   },
   "outputs": [
    {
     "name": "stdout",
     "output_type": "stream",
     "text": [
      "(62, 7000)\n"
     ]
    }
   ],
   "source": []
  },
  {
   "cell_type": "code",
   "execution_count": 47,
   "metadata": {
    "colab": {
     "background_save": true
    },
    "id": "L9Otq9-hJMMj"
   },
   "outputs": [],
   "source": [
    "# reconstructed movie\n",
    "scope = (0,7000)\n",
    "\n",
    "vpy.estimates['weights'][vpy.estimates['weights']<0] = 0    \n",
    "A = vpy.estimates['weights'][idx].transpose([1,2,0]).reshape((-1,len(idx)))\n",
    "C = vpy.estimates['t_rec'][idx,scope[0]:scope[1]]\n",
    "mv_rec = np.dot(A, C).reshape((180,512,scope[1]-scope[0])).transpose((2,0,1))    \n",
    "mv_rec = (mv_rec - mv_rec.min())/(mv_rec.max()-mv_rec.min())\n",
    "\n",
    "mv_rec = cm.movie(mv_rec,fr=400)\n",
    "mv_rec.play(fr=400)"
   ]
  },
  {
   "cell_type": "code",
   "execution_count": 39,
   "metadata": {
    "colab": {
     "background_save": true
    },
    "id": "L9Otq9-hJMMj",
    "scrolled": true
   },
   "outputs": [
    {
     "name": "stdout",
     "output_type": "stream",
     "text": [
      "0.00013454592996185234\n"
     ]
    }
   ],
   "source": []
  },
  {
   "cell_type": "code",
   "execution_count": 44,
   "metadata": {},
   "outputs": [
    {
     "name": "stderr",
     "output_type": "stream",
     "text": [
      "100%|█████████████████████████████████████████████████████████████████████████████████████████████████████████████████████████| 1/1 [00:00<00:00,  1.25it/s]\n"
     ]
    }
   ],
   "source": [
    "# Reconstructed movie\n",
    "mv_all = utils.reconstructed_movie(vpy.estimates.copy(), fnames=mc.mmap_file,\n",
    "                                           idx=idx, scope=(0,1000), flip_signal=flip_signal)\n",
    "\n",
    "\n",
    "mv_all.play(fr=40, magnification=3)"
   ]
  },
  {
   "cell_type": "code",
   "execution_count": 18,
   "metadata": {},
   "outputs": [],
   "source": [
    "vpy.estimates['ROIs'] = ROIs\n",
    "save_name = f'volpy_{os.path.split(fnames)[1][:-5]}_{threshold_method}'\n",
    "np.save(os.path.join(file_dir, save_name), vpy.estimates)"
   ]
  },
  {
   "cell_type": "code",
   "execution_count": 19,
   "metadata": {},
   "outputs": [],
   "source": [
    "#%% Reuse spatial weights extracted from previous video\n",
    "# set weights = reuse_weights in opts_dict dictionary\n",
    "if False:\n",
    "    estimates = np.load(os.path.join(file_dir, save_name+'.npy'), allow_pickle=True).item()\n",
    "    reuse_weights = []\n",
    "    for idx in range(ROIs.shape[0]):\n",
    "        coord = estimates['context_coord'][idx]\n",
    "        w = estimates['weights'][idx][coord[0][0]:coord[1][0]+1, coord[0][1]:coord[1][1]+1] \n",
    "        plt.figure(); plt.imshow(w);plt.colorbar(); plt.show()\n",
    "        reuse_weights.append(w)"
   ]
  },
  {
   "cell_type": "code",
   "execution_count": 20,
   "metadata": {
    "colab": {
     "background_save": true
    },
    "id": "jv9zCNpbHRoO"
   },
   "outputs": [],
   "source": [
    "# Stop cluster and clean up log files\n",
    "cm.stop_server(dview=dview)\n",
    "log_files = glob.glob('*_LOG_*')\n",
    "for log_file in log_files:\n",
    "    os.remove(log_file)"
   ]
  },
  {
   "cell_type": "code",
   "execution_count": null,
   "metadata": {},
   "outputs": [],
   "source": []
  }
 ],
 "metadata": {
  "accelerator": "GPU",
  "colab": {
   "provenance": []
  },
  "kernelspec": {
   "display_name": "Python 3 (ipykernel)",
   "language": "python",
   "name": "python3"
  },
  "language_info": {
   "codemirror_mode": {
    "name": "ipython",
    "version": 3
   },
   "file_extension": ".py",
   "mimetype": "text/x-python",
   "name": "python",
   "nbconvert_exporter": "python",
   "pygments_lexer": "ipython3",
   "version": "3.9.22"
  }
 },
 "nbformat": 4,
 "nbformat_minor": 4
}
